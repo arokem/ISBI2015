{
 "cells": [
  {
   "cell_type": "code",
   "execution_count": 14,
   "metadata": {
    "collapsed": false
   },
   "outputs": [],
   "source": [
    "import numpy as np\n",
    "import matplotlib.pyplot as plt\n",
    "#%matplotlib inline\n",
    "import seaborn as sns\n",
    "sns.set()\n",
    "import dipy.reconst.sfm as sfm\n",
    "import dipy.reconst.csdeconv as csd\n",
    "import dipy.reconst.dti as dti\n",
    "import dipy.core.gradients as grad\n",
    "import dipy.reconst.cross_validation as xval\n",
    "import dipy.data as dpd\n",
    "import utils\n",
    "import model as mm \n",
    "from model import Model, BiExponentialIsotropicModel\n",
    "from parallelization import parallelization\n",
    "import csv"
   ]
  },
  {
   "cell_type": "code",
   "execution_count": 15,
   "metadata": {
    "collapsed": true
   },
   "outputs": [],
   "source": [
    "sphere = dpd.get_sphere()\n",
    "sphere = sphere.subdivide(1)"
   ]
  },
  {
   "cell_type": "code",
   "execution_count": 16,
   "metadata": {
    "collapsed": false
   },
   "outputs": [],
   "source": [
    "# Load Data\n",
    "data_dict = utils.read_data()\n",
    "data = data_dict['seen']['signal'][:, range(2)]\n",
    "bvals = data_dict['seen']['bvals']\n",
    "bvecs = data_dict['seen']['bvecs']\n",
    "delta = data_dict['seen']['delta']\n",
    "Delta = data_dict['seen']['Delta']\n",
    "te = data_dict['seen']['TE']\n",
    "g = data_dict['seen']['g']"
   ]
  },
  {
   "cell_type": "code",
   "execution_count": 17,
   "metadata": {
    "collapsed": false
   },
   "outputs": [
    {
     "data": {
      "text/plain": [
       "'\\ndata_seen = []\\ndata_unseen = []\\nte_seen = []\\nte_unseen = []\\ngtab_seen = []\\ngtab_unseen = []\\n\\nmask = utils.create_shells()\\nfor m in range(data.shape[-1]): # for every voxel\\n    for j in range(0, len(mask)): # for every TE\\n        for i in range(1, len(mask[j])): # for every shell besides B0s\\n            mask_unseen = mask[j][i]\\n            mask_seen = np.invert(mask_unseen)\\n            data_seen.append(data[mask_seen, m])\\n            data_unseen.append(data[mask_unseen, m])\\n            te_seen.append(te[mask_seen])\\n            te_unseen.append(te[mask_unseen])\\n            bvals_seen_temp = bvals[mask_seen]\\n            bvecs_seen_temp = bvecs[mask_seen]\\n            delta_seen_temp = delta[mask_seen]\\n            Delta_seen_temp = Delta[mask_seen]\\n            gtab_seen.append(grad.gradient_table(bvals_seen_temp, bvecs_seen_temp, big_delta=Delta_seen_temp, small_delta=delta_seen_temp))\\n            bvals_unseen_temp = bvals[mask_unseen]\\n            bvecs_unseen_temp = bvecs[mask_unseen]\\n            delta_unseen_temp = delta[mask_unseen]\\n            Delta_unseen_temp = Delta[mask_unseen]\\n            gtab_unseen.append(grad.gradient_table(bvals_unseen_temp, bvecs_unseen_temp, big_delta=Delta_unseen_temp, small_delta=delta_unseen_temp))\\n'"
      ]
     },
     "execution_count": 17,
     "metadata": {},
     "output_type": "execute_result"
    }
   ],
   "source": [
    "'''\n",
    "data_seen = []\n",
    "data_unseen = []\n",
    "te_seen = []\n",
    "te_unseen = []\n",
    "gtab_seen = []\n",
    "gtab_unseen = []\n",
    "\n",
    "mask = utils.create_shells()\n",
    "for m in range(data.shape[-1]): # for every voxel\n",
    "    for j in range(0, len(mask)): # for every TE\n",
    "        for i in range(1, len(mask[j])): # for every shell besides B0s\n",
    "            mask_unseen = mask[j][i]\n",
    "            mask_seen = np.invert(mask_unseen)\n",
    "            data_seen.append(data[mask_seen, m])\n",
    "            data_unseen.append(data[mask_unseen, m])\n",
    "            te_seen.append(te[mask_seen])\n",
    "            te_unseen.append(te[mask_unseen])\n",
    "            bvals_seen_temp = bvals[mask_seen]\n",
    "            bvecs_seen_temp = bvecs[mask_seen]\n",
    "            delta_seen_temp = delta[mask_seen]\n",
    "            Delta_seen_temp = Delta[mask_seen]\n",
    "            gtab_seen.append(grad.gradient_table(bvals_seen_temp, bvecs_seen_temp, big_delta=Delta_seen_temp, small_delta=delta_seen_temp))\n",
    "            bvals_unseen_temp = bvals[mask_unseen]\n",
    "            bvecs_unseen_temp = bvecs[mask_unseen]\n",
    "            delta_unseen_temp = delta[mask_unseen]\n",
    "            Delta_unseen_temp = Delta[mask_unseen]\n",
    "            gtab_unseen.append(grad.gradient_table(bvals_unseen_temp, bvecs_unseen_temp, big_delta=Delta_unseen_temp, small_delta=delta_unseen_temp))\n",
    "'''"
   ]
  },
  {
   "cell_type": "code",
   "execution_count": 18,
   "metadata": {
    "collapsed": true
   },
   "outputs": [],
   "source": [
    "data_seen = []\n",
    "data_unseen = []\n",
    "te_seen = []\n",
    "te_unseen = []\n",
    "gtab_seen = []\n",
    "gtab_unseen = []\n",
    "\n",
    "mask = utils.create_shells()\n",
    "for m in range(data.shape[-1]): # for every voxel\n",
    "    for j in range(1, len(mask)): # for every TE\n",
    "        i = 3\n",
    "        if j == 5 or j == 7:\n",
    "            pass\n",
    "        else:\n",
    "            mask_unseen = mask[j][i]\n",
    "            mask_seen = np.invert(mask_unseen)\n",
    "            data_seen.append(data[mask_seen, m])\n",
    "            data_unseen.append(data[mask_unseen, m])\n",
    "            te_seen.append(te[mask_seen])\n",
    "            te_unseen.append(te[mask_unseen])\n",
    "            bvals_seen_temp = bvals[mask_seen]\n",
    "            bvecs_seen_temp = bvecs[mask_seen]\n",
    "            delta_seen_temp = delta[mask_seen]\n",
    "            Delta_seen_temp = Delta[mask_seen]\n",
    "            gtab_seen.append(grad.gradient_table(bvals_seen_temp, bvecs_seen_temp, big_delta=Delta_seen_temp, small_delta=delta_seen_temp))\n",
    "            bvals_unseen_temp = bvals[mask_unseen]\n",
    "            bvecs_unseen_temp = bvecs[mask_unseen]\n",
    "            delta_unseen_temp = delta[mask_unseen]\n",
    "            Delta_unseen_temp = Delta[mask_unseen]\n",
    "            gtab_unseen.append(grad.gradient_table(bvals_unseen_temp, bvecs_unseen_temp, big_delta=Delta_unseen_temp, small_delta=delta_unseen_temp))"
   ]
  },
  {
   "cell_type": "code",
   "execution_count": null,
   "metadata": {
    "collapsed": true
   },
   "outputs": [],
   "source": []
  },
  {
   "cell_type": "code",
   "execution_count": null,
   "metadata": {
    "collapsed": true
   },
   "outputs": [],
   "source": []
  },
  {
   "cell_type": "code",
   "execution_count": null,
   "metadata": {
    "collapsed": true
   },
   "outputs": [],
   "source": []
  },
  {
   "cell_type": "code",
   "execution_count": 19,
   "metadata": {
    "collapsed": false
   },
   "outputs": [],
   "source": [
    "# 3 shells, 11 TEs, 6 Voxel"
   ]
  },
  {
   "cell_type": "code",
   "execution_count": 20,
   "metadata": {
    "collapsed": false
   },
   "outputs": [],
   "source": [
    "alphas = [1e-5]#, 1e-1]#1e-9, 1e-7, 1e-5, 1e-3, 1e-1]\n",
    "l1_ratios = [0.1]#, 0.9]#, 0.3, 0.5, 0.7, 0.9]"
   ]
  },
  {
   "cell_type": "code",
   "execution_count": 21,
   "metadata": {
    "collapsed": true
   },
   "outputs": [],
   "source": [
    "n_variations = len(alphas) * len(l1_ratios)\n",
    "n_voxels = len(data_seen)\n",
    "n = n_voxels * n_variations"
   ]
  },
  {
   "cell_type": "code",
   "execution_count": 22,
   "metadata": {
    "collapsed": false
   },
   "outputs": [],
   "source": [
    "alpha_grid, l1_ratio_grid = np.meshgrid(alphas, l1_ratios)\n",
    "alpha_grid = np.reshape(alpha_grid, (n_variations, -1)).squeeze()\n",
    "l1_ratio_grid = np.reshape(l1_ratio_grid, (n_variations, -1)).squeeze()"
   ]
  },
  {
   "cell_type": "code",
   "execution_count": 23,
   "metadata": {
    "collapsed": true
   },
   "outputs": [],
   "source": [
    "alpha = np.repeat(alpha_grid, n_voxels).tolist()\n",
    "l1_ratio = np.repeat(l1_ratio_grid, n_voxels).tolist()"
   ]
  },
  {
   "cell_type": "code",
   "execution_count": 24,
   "metadata": {
    "collapsed": false
   },
   "outputs": [],
   "source": [
    "p = parallelization()"
   ]
  },
  {
   "cell_type": "code",
   "execution_count": 25,
   "metadata": {
    "collapsed": false
   },
   "outputs": [
    {
     "name": "stdout",
     "output_type": "stream",
     "text": [
      "Progress[              0%                      ]\n",
      "Total Time needed: 0.01min\n",
      "\n"
     ]
    }
   ],
   "source": [
    "models = p.start(Model, n, gtab_seen*n_variations, sphere=[sphere], isotropic=[BiExponentialIsotropicModel], alpha=alpha, l1_ratio=l1_ratio)"
   ]
  },
  {
   "cell_type": "code",
   "execution_count": 26,
   "metadata": {
    "collapsed": false
   },
   "outputs": [
    {
     "name": "stdout",
     "output_type": "stream",
     "text": [
      "Parallelization starts on 64 CPUs.\n",
      "Progress[              0%                      ]"
     ]
    },
    {
     "name": "stderr",
     "output_type": "stream",
     "text": [
      "Process Process-195:\n",
      "Process Process-194:\n",
      "Process Process-80:\n",
      "Process Process-75:\n",
      "Process Process-76:\n",
      "Process Process-78:\n",
      "Process Process-69:\n",
      "Process Process-71:\n",
      "Process Process-67:\n",
      "Process Process-79:\n",
      "Process Process-77:\n",
      "Process Process-70:\n",
      "Process Process-72:\n",
      "Process Process-73:\n",
      "Process Process-68:\n",
      "Process Process-74:\n",
      "Process Process-66:\n",
      "Process Process-65:\n",
      "Process Process-193:\n",
      "Process Process-200:\n",
      "Process Process-205:\n",
      "Process Process-204:\n",
      "Process Process-196:\n",
      "Process Process-208:\n",
      "Process Process-203:\n",
      "Process Process-202:\n",
      "Process Process-198:\n",
      "Process Process-199:\n",
      "Process Process-206:\n",
      "Process Process-201:\n",
      "Process Process-197:\n",
      "Process Process-207:\n",
      "Traceback (most recent call last):\n",
      "Traceback (most recent call last):\n",
      "Traceback (most recent call last):\n",
      "Traceback (most recent call last):\n",
      "Traceback (most recent call last):\n",
      "Traceback (most recent call last):\n",
      "Traceback (most recent call last):\n",
      "Traceback (most recent call last):\n",
      "Traceback (most recent call last):\n",
      "Traceback (most recent call last):\n",
      "Traceback (most recent call last):\n",
      "Traceback (most recent call last):\n",
      "Traceback (most recent call last):\n",
      "Traceback (most recent call last):\n",
      "Traceback (most recent call last):\n",
      "Traceback (most recent call last):\n",
      "Traceback (most recent call last):\n",
      "Traceback (most recent call last):\n",
      "Traceback (most recent call last):\n",
      "Traceback (most recent call last):\n",
      "Traceback (most recent call last):\n",
      "Traceback (most recent call last):\n",
      "Traceback (most recent call last):\n",
      "Traceback (most recent call last):\n",
      "Traceback (most recent call last):\n",
      "Traceback (most recent call last):\n",
      "Traceback (most recent call last):\n",
      "Traceback (most recent call last):\n",
      "Traceback (most recent call last):\n",
      "Traceback (most recent call last):\n",
      "Traceback (most recent call last):\n",
      "Traceback (most recent call last):\n",
      "  File \"/usr/lib/python2.7/multiprocessing/process.py\", line 258, in _bootstrap\n",
      "  File \"/usr/lib/python2.7/multiprocessing/process.py\", line 258, in _bootstrap\n",
      "  File \"/usr/lib/python2.7/multiprocessing/process.py\", line 258, in _bootstrap\n",
      "  File \"/usr/lib/python2.7/multiprocessing/process.py\", line 258, in _bootstrap\n",
      "  File \"/usr/lib/python2.7/multiprocessing/process.py\", line 258, in _bootstrap\n",
      "  File \"/usr/lib/python2.7/multiprocessing/process.py\", line 258, in _bootstrap\n",
      "  File \"/usr/lib/python2.7/multiprocessing/process.py\", line 258, in _bootstrap\n",
      "  File \"/usr/lib/python2.7/multiprocessing/process.py\", line 258, in _bootstrap\n",
      "  File \"/usr/lib/python2.7/multiprocessing/process.py\", line 258, in _bootstrap\n",
      "  File \"/usr/lib/python2.7/multiprocessing/process.py\", line 258, in _bootstrap\n",
      "  File \"/usr/lib/python2.7/multiprocessing/process.py\", line 258, in _bootstrap\n",
      "  File \"/usr/lib/python2.7/multiprocessing/process.py\", line 258, in _bootstrap\n",
      "  File \"/usr/lib/python2.7/multiprocessing/process.py\", line 258, in _bootstrap\n",
      "  File \"/usr/lib/python2.7/multiprocessing/process.py\", line 258, in _bootstrap\n",
      "  File \"/usr/lib/python2.7/multiprocessing/process.py\", line 258, in _bootstrap\n",
      "  File \"/usr/lib/python2.7/multiprocessing/process.py\", line 258, in _bootstrap\n",
      "  File \"/usr/lib/python2.7/multiprocessing/process.py\", line 258, in _bootstrap\n",
      "  File \"/usr/lib/python2.7/multiprocessing/process.py\", line 258, in _bootstrap\n",
      "  File \"/usr/lib/python2.7/multiprocessing/process.py\", line 258, in _bootstrap\n",
      "  File \"/usr/lib/python2.7/multiprocessing/process.py\", line 258, in _bootstrap\n",
      "  File \"/usr/lib/python2.7/multiprocessing/process.py\", line 258, in _bootstrap\n",
      "  File \"/usr/lib/python2.7/multiprocessing/process.py\", line 258, in _bootstrap\n",
      "  File \"/usr/lib/python2.7/multiprocessing/process.py\", line 258, in _bootstrap\n",
      "  File \"/usr/lib/python2.7/multiprocessing/process.py\", line 258, in _bootstrap\n",
      "  File \"/usr/lib/python2.7/multiprocessing/process.py\", line 258, in _bootstrap\n",
      "  File \"/usr/lib/python2.7/multiprocessing/process.py\", line 258, in _bootstrap\n",
      "  File \"/usr/lib/python2.7/multiprocessing/process.py\", line 258, in _bootstrap\n",
      "  File \"/usr/lib/python2.7/multiprocessing/process.py\", line 258, in _bootstrap\n",
      "  File \"/usr/lib/python2.7/multiprocessing/process.py\", line 258, in _bootstrap\n",
      "  File \"/usr/lib/python2.7/multiprocessing/process.py\", line 258, in _bootstrap\n",
      "  File \"/usr/lib/python2.7/multiprocessing/process.py\", line 258, in _bootstrap\n",
      "  File \"/usr/lib/python2.7/multiprocessing/process.py\", line 258, in _bootstrap\n",
      "    self.run()\n",
      "    self.run()\n",
      "    self.run()\n",
      "    self.run()\n",
      "    self.run()\n",
      "    self.run()\n",
      "    self.run()\n",
      "    self.run()\n",
      "    self.run()\n",
      "    self.run()\n",
      "    self.run()\n",
      "    self.run()\n",
      "    self.run()\n",
      "    self.run()\n",
      "    self.run()\n",
      "    self.run()\n",
      "    self.run()\n",
      "    self.run()\n",
      "    self.run()\n",
      "    self.run()\n",
      "    self.run()\n",
      "    self.run()\n",
      "    self.run()\n",
      "    self.run()\n",
      "    self.run()\n",
      "    self.run()\n",
      "    self.run()\n",
      "    self.run()\n",
      "    self.run()\n",
      "    self.run()\n",
      "    self.run()\n",
      "    self.run()\n",
      "  File \"/usr/lib/python2.7/multiprocessing/process.py\", line 114, in run\n",
      "  File \"/usr/lib/python2.7/multiprocessing/process.py\", line 114, in run\n",
      "  File \"/usr/lib/python2.7/multiprocessing/process.py\", line 114, in run\n",
      "  File \"/usr/lib/python2.7/multiprocessing/process.py\", line 114, in run\n",
      "  File \"/usr/lib/python2.7/multiprocessing/process.py\", line 114, in run\n",
      "  File \"/usr/lib/python2.7/multiprocessing/process.py\", line 114, in run\n",
      "  File \"/usr/lib/python2.7/multiprocessing/process.py\", line 114, in run\n",
      "  File \"/usr/lib/python2.7/multiprocessing/process.py\", line 114, in run\n",
      "  File \"/usr/lib/python2.7/multiprocessing/process.py\", line 114, in run\n",
      "  File \"/usr/lib/python2.7/multiprocessing/process.py\", line 114, in run\n",
      "  File \"/usr/lib/python2.7/multiprocessing/process.py\", line 114, in run\n",
      "  File \"/usr/lib/python2.7/multiprocessing/process.py\", line 114, in run\n",
      "  File \"/usr/lib/python2.7/multiprocessing/process.py\", line 114, in run\n",
      "  File \"/usr/lib/python2.7/multiprocessing/process.py\", line 114, in run\n",
      "  File \"/usr/lib/python2.7/multiprocessing/process.py\", line 114, in run\n",
      "  File \"/usr/lib/python2.7/multiprocessing/process.py\", line 114, in run\n",
      "  File \"/usr/lib/python2.7/multiprocessing/process.py\", line 114, in run\n",
      "  File \"/usr/lib/python2.7/multiprocessing/process.py\", line 114, in run\n",
      "  File \"/usr/lib/python2.7/multiprocessing/process.py\", line 114, in run\n",
      "  File \"/usr/lib/python2.7/multiprocessing/process.py\", line 114, in run\n",
      "  File \"/usr/lib/python2.7/multiprocessing/process.py\", line 114, in run\n",
      "  File \"/usr/lib/python2.7/multiprocessing/process.py\", line 114, in run\n",
      "  File \"/usr/lib/python2.7/multiprocessing/process.py\", line 114, in run\n",
      "  File \"/usr/lib/python2.7/multiprocessing/process.py\", line 114, in run\n",
      "  File \"/usr/lib/python2.7/multiprocessing/process.py\", line 114, in run\n",
      "  File \"/usr/lib/python2.7/multiprocessing/process.py\", line 114, in run\n",
      "  File \"/usr/lib/python2.7/multiprocessing/process.py\", line 114, in run\n",
      "  File \"/usr/lib/python2.7/multiprocessing/process.py\", line 114, in run\n",
      "  File \"/usr/lib/python2.7/multiprocessing/process.py\", line 114, in run\n",
      "  File \"/usr/lib/python2.7/multiprocessing/process.py\", line 114, in run\n",
      "  File \"/usr/lib/python2.7/multiprocessing/process.py\", line 114, in run\n",
      "  File \"/usr/lib/python2.7/multiprocessing/process.py\", line 114, in run\n",
      "    self._target(*self._args, **self._kwargs)\n",
      "    self._target(*self._args, **self._kwargs)\n",
      "    self._target(*self._args, **self._kwargs)\n",
      "    self._target(*self._args, **self._kwargs)\n",
      "    self._target(*self._args, **self._kwargs)\n",
      "    self._target(*self._args, **self._kwargs)\n",
      "    self._target(*self._args, **self._kwargs)\n",
      "    self._target(*self._args, **self._kwargs)\n",
      "    self._target(*self._args, **self._kwargs)\n",
      "    self._target(*self._args, **self._kwargs)\n",
      "    self._target(*self._args, **self._kwargs)\n",
      "    self._target(*self._args, **self._kwargs)\n",
      "    self._target(*self._args, **self._kwargs)\n",
      "    self._target(*self._args, **self._kwargs)\n",
      "    self._target(*self._args, **self._kwargs)\n",
      "    self._target(*self._args, **self._kwargs)\n",
      "    self._target(*self._args, **self._kwargs)\n",
      "    self._target(*self._args, **self._kwargs)\n",
      "    self._target(*self._args, **self._kwargs)\n",
      "    self._target(*self._args, **self._kwargs)\n",
      "    self._target(*self._args, **self._kwargs)\n",
      "    self._target(*self._args, **self._kwargs)\n",
      "    self._target(*self._args, **self._kwargs)\n",
      "    self._target(*self._args, **self._kwargs)\n",
      "    self._target(*self._args, **self._kwargs)\n",
      "    self._target(*self._args, **self._kwargs)\n",
      "    self._target(*self._args, **self._kwargs)\n",
      "    self._target(*self._args, **self._kwargs)\n",
      "    self._target(*self._args, **self._kwargs)\n",
      "    self._target(*self._args, **self._kwargs)\n",
      "    self._target(*self._args, **self._kwargs)\n",
      "    self._target(*self._args, **self._kwargs)\n",
      "  File \"parallelization.py\", line 74, in worker\n",
      "  File \"parallelization.py\", line 74, in worker\n",
      "  File \"parallelization.py\", line 74, in worker\n",
      "  File \"parallelization.py\", line 74, in worker\n",
      "  File \"parallelization.py\", line 74, in worker\n",
      "  File \"parallelization.py\", line 74, in worker\n",
      "  File \"parallelization.py\", line 74, in worker\n",
      "  File \"parallelization.py\", line 74, in worker\n",
      "  File \"parallelization.py\", line 74, in worker\n",
      "  File \"parallelization.py\", line 74, in worker\n",
      "  File \"parallelization.py\", line 74, in worker\n",
      "  File \"parallelization.py\", line 74, in worker\n",
      "  File \"parallelization.py\", line 74, in worker\n",
      "  File \"parallelization.py\", line 74, in worker\n",
      "  File \"parallelization.py\", line 74, in worker\n",
      "  File \"parallelization.py\", line 74, in worker\n",
      "  File \"parallelization.py\", line 74, in worker\n",
      "  File \"parallelization.py\", line 74, in worker\n",
      "  File \"parallelization.py\", line 74, in worker\n",
      "  File \"parallelization.py\", line 74, in worker\n",
      "  File \"parallelization.py\", line 74, in worker\n",
      "  File \"parallelization.py\", line 74, in worker\n",
      "  File \"parallelization.py\", line 74, in worker\n",
      "  File \"parallelization.py\", line 74, in worker\n",
      "  File \"parallelization.py\", line 74, in worker\n",
      "  File \"parallelization.py\", line 74, in worker\n",
      "  File \"parallelization.py\", line 74, in worker\n",
      "  File \"parallelization.py\", line 74, in worker\n",
      "  File \"parallelization.py\", line 74, in worker\n"
     ]
    },
    {
     "ename": "KeyboardInterrupt",
     "evalue": "",
     "output_type": "error",
     "traceback": [
      "\u001b[1;31m---------------------------------------------------------------------------\u001b[0m",
      "\u001b[1;31mKeyboardInterrupt\u001b[0m                         Traceback (most recent call last)",
      "\u001b[1;32m<ipython-input-26-d68c73170afd>\u001b[0m in \u001b[0;36m<module>\u001b[1;34m()\u001b[0m\n\u001b[1;32m----> 1\u001b[1;33m \u001b[0mfits\u001b[0m \u001b[1;33m=\u001b[0m \u001b[0mp\u001b[0m\u001b[1;33m.\u001b[0m\u001b[0mstart\u001b[0m\u001b[1;33m(\u001b[0m\u001b[1;33m[\u001b[0m\u001b[0mi\u001b[0m\u001b[1;33m.\u001b[0m\u001b[0mfit\u001b[0m \u001b[1;32mfor\u001b[0m \u001b[0mi\u001b[0m \u001b[1;32min\u001b[0m \u001b[0mmodels\u001b[0m\u001b[1;33m]\u001b[0m\u001b[1;33m,\u001b[0m \u001b[0mn\u001b[0m\u001b[1;33m,\u001b[0m \u001b[0mdata_seen\u001b[0m\u001b[1;33m*\u001b[0m\u001b[0mn_variations\u001b[0m\u001b[1;33m,\u001b[0m \u001b[0mte_seen\u001b[0m\u001b[1;33m*\u001b[0m\u001b[0mn_variations\u001b[0m\u001b[1;33m)\u001b[0m\u001b[1;33m\u001b[0m\u001b[0m\n\u001b[0m",
      "\u001b[1;32m/localhome/cpoetter/ISBI2015/parallelization.pyc\u001b[0m in \u001b[0;36mstart\u001b[1;34m(self, function, n, *args, **kwargs)\u001b[0m\n\u001b[0;32m    132\u001b[0m \u001b[1;33m\u001b[0m\u001b[0m\n\u001b[0;32m    133\u001b[0m         \u001b[1;32mfor\u001b[0m \u001b[0mi\u001b[0m \u001b[1;32min\u001b[0m \u001b[0mrange\u001b[0m\u001b[1;33m(\u001b[0m\u001b[0mn\u001b[0m\u001b[1;33m)\u001b[0m\u001b[1;33m:\u001b[0m\u001b[1;33m\u001b[0m\u001b[0m\n\u001b[1;32m--> 134\u001b[1;33m             \u001b[0mresults\u001b[0m \u001b[1;33m=\u001b[0m \u001b[0mq\u001b[0m\u001b[1;33m.\u001b[0m\u001b[0mget\u001b[0m\u001b[1;33m(\u001b[0m\u001b[1;33m)\u001b[0m\u001b[1;33m\u001b[0m\u001b[0m\n\u001b[0m\u001b[0;32m    135\u001b[0m             \u001b[0mvox\u001b[0m \u001b[1;33m=\u001b[0m \u001b[0mresults\u001b[0m\u001b[1;33m[\u001b[0m\u001b[1;36m0\u001b[0m\u001b[1;33m]\u001b[0m\u001b[1;33m\u001b[0m\u001b[0m\n\u001b[0;32m    136\u001b[0m             \u001b[0mreturn_values\u001b[0m\u001b[1;33m[\u001b[0m\u001b[0mvox\u001b[0m\u001b[1;33m]\u001b[0m \u001b[1;33m=\u001b[0m \u001b[0mresults\u001b[0m\u001b[1;33m[\u001b[0m\u001b[1;36m1\u001b[0m\u001b[1;33m]\u001b[0m\u001b[1;33m\u001b[0m\u001b[0m\n",
      "\u001b[1;32m/usr/lib/python2.7/multiprocessing/queues.pyc\u001b[0m in \u001b[0;36mget\u001b[1;34m(self, block, timeout)\u001b[0m\n\u001b[0;32m    115\u001b[0m             \u001b[0mself\u001b[0m\u001b[1;33m.\u001b[0m\u001b[0m_rlock\u001b[0m\u001b[1;33m.\u001b[0m\u001b[0macquire\u001b[0m\u001b[1;33m(\u001b[0m\u001b[1;33m)\u001b[0m\u001b[1;33m\u001b[0m\u001b[0m\n\u001b[0;32m    116\u001b[0m             \u001b[1;32mtry\u001b[0m\u001b[1;33m:\u001b[0m\u001b[1;33m\u001b[0m\u001b[0m\n\u001b[1;32m--> 117\u001b[1;33m                 \u001b[0mres\u001b[0m \u001b[1;33m=\u001b[0m \u001b[0mself\u001b[0m\u001b[1;33m.\u001b[0m\u001b[0m_recv\u001b[0m\u001b[1;33m(\u001b[0m\u001b[1;33m)\u001b[0m\u001b[1;33m\u001b[0m\u001b[0m\n\u001b[0m\u001b[0;32m    118\u001b[0m                 \u001b[0mself\u001b[0m\u001b[1;33m.\u001b[0m\u001b[0m_sem\u001b[0m\u001b[1;33m.\u001b[0m\u001b[0mrelease\u001b[0m\u001b[1;33m(\u001b[0m\u001b[1;33m)\u001b[0m\u001b[1;33m\u001b[0m\u001b[0m\n\u001b[0;32m    119\u001b[0m                 \u001b[1;32mreturn\u001b[0m \u001b[0mres\u001b[0m\u001b[1;33m\u001b[0m\u001b[0m\n",
      "\u001b[1;31mKeyboardInterrupt\u001b[0m: "
     ]
    },
    {
     "name": "stderr",
     "output_type": "stream",
     "text": [
      "  File \"parallelization.py\", line 74, in worker\n",
      "  File \"parallelization.py\", line 74, in worker\n",
      "  File \"parallelization.py\", line 74, in worker\n",
      "    result = function[vox](*params, **params_dict)\n",
      "    result = function[vox](*params, **params_dict)\n",
      "    result = function[vox](*params, **params_dict)\n",
      "    result = function[vox](*params, **params_dict)\n",
      "    result = function[vox](*params, **params_dict)\n",
      "    result = function[vox](*params, **params_dict)\n",
      "    result = function[vox](*params, **params_dict)\n",
      "    result = function[vox](*params, **params_dict)\n",
      "    result = function[vox](*params, **params_dict)\n",
      "    result = function[vox](*params, **params_dict)\n",
      "    result = function[vox](*params, **params_dict)\n",
      "    result = function[vox](*params, **params_dict)\n",
      "    result = function[vox](*params, **params_dict)\n",
      "    result = function[vox](*params, **params_dict)\n",
      "    result = function[vox](*params, **params_dict)\n",
      "    result = function[vox](*params, **params_dict)\n",
      "    result = function[vox](*params, **params_dict)\n",
      "    result = function[vox](*params, **params_dict)\n",
      "    result = function[vox](*params, **params_dict)\n",
      "    result = function[vox](*params, **params_dict)\n",
      "    result = function[vox](*params, **params_dict)\n",
      "    result = function[vox](*params, **params_dict)\n",
      "    result = function[vox](*params, **params_dict)\n",
      "    result = function[vox](*params, **params_dict)\n",
      "    result = function[vox](*params, **params_dict)\n",
      "    result = function[vox](*params, **params_dict)\n",
      "    result = function[vox](*params, **params_dict)\n",
      "    result = function[vox](*params, **params_dict)\n",
      "    result = function[vox](*params, **params_dict)\n",
      "    result = function[vox](*params, **params_dict)\n",
      "    result = function[vox](*params, **params_dict)\n",
      "    result = function[vox](*params, **params_dict)\n",
      "  File \"model.py\", line 138, in fit\n",
      "  File \"model.py\", line 138, in fit\n",
      "  File \"model.py\", line 138, in fit\n",
      "  File \"model.py\", line 138, in fit\n",
      "  File \"model.py\", line 138, in fit\n",
      "  File \"model.py\", line 138, in fit\n",
      "  File \"model.py\", line 138, in fit\n",
      "  File \"model.py\", line 138, in fit\n",
      "  File \"model.py\", line 138, in fit\n",
      "  File \"model.py\", line 138, in fit\n",
      "  File \"model.py\", line 138, in fit\n",
      "  File \"model.py\", line 138, in fit\n",
      "  File \"model.py\", line 138, in fit\n",
      "  File \"model.py\", line 138, in fit\n",
      "  File \"model.py\", line 138, in fit\n",
      "  File \"model.py\", line 138, in fit\n",
      "  File \"model.py\", line 138, in fit\n",
      "  File \"model.py\", line 138, in fit\n",
      "  File \"model.py\", line 138, in fit\n",
      "  File \"model.py\", line 138, in fit\n",
      "  File \"model.py\", line 138, in fit\n",
      "  File \"model.py\", line 138, in fit\n",
      "  File \"model.py\", line 138, in fit\n",
      "  File \"model.py\", line 138, in fit\n",
      "  File \"model.py\", line 138, in fit\n",
      "  File \"model.py\", line 138, in fit\n",
      "  File \"model.py\", line 138, in fit\n",
      "  File \"model.py\", line 138, in fit\n",
      "  File \"model.py\", line 138, in fit\n",
      "  File \"model.py\", line 138, in fit\n",
      "  File \"model.py\", line 138, in fit\n",
      "  File \"model.py\", line 138, in fit\n",
      "    dm = dm * weight[~gtab.b0s_mask, None]\n",
      "    dm = dm * weight[~gtab.b0s_mask, None]\n",
      "    dm = dm * weight[~gtab.b0s_mask, None]\n",
      "    dm = dm * weight[~gtab.b0s_mask, None]\n",
      "    dm = dm * weight[~gtab.b0s_mask, None]\n",
      "    dm = dm * weight[~gtab.b0s_mask, None]\n",
      "    dm = dm * weight[~gtab.b0s_mask, None]\n",
      "    dm = dm * weight[~gtab.b0s_mask, None]\n",
      "    dm = dm * weight[~gtab.b0s_mask, None]\n",
      "    dm = dm * weight[~gtab.b0s_mask, None]\n",
      "    dm = dm * weight[~gtab.b0s_mask, None]\n",
      "    dm = dm * weight[~gtab.b0s_mask, None]\n",
      "    dm = dm * weight[~gtab.b0s_mask, None]\n",
      "    dm = dm * weight[~gtab.b0s_mask, None]\n",
      "    dm = dm * weight[~gtab.b0s_mask, None]\n",
      "    dm = dm * weight[~gtab.b0s_mask, None]\n",
      "    dm = dm * weight[~gtab.b0s_mask, None]\n",
      "    dm = dm * weight[~gtab.b0s_mask, None]\n",
      "    dm = dm * weight[~gtab.b0s_mask, None]\n",
      "    dm = dm * weight[~gtab.b0s_mask, None]\n",
      "    dm = dm * weight[~gtab.b0s_mask, None]\n",
      "    dm = dm * weight[~gtab.b0s_mask, None]\n",
      "    dm = dm * weight[~gtab.b0s_mask, None]\n",
      "    dm = dm * weight[~gtab.b0s_mask, None]\n",
      "    dm = dm * weight[~gtab.b0s_mask, None]\n",
      "    dm = dm * weight[~gtab.b0s_mask, None]\n",
      "    dm = dm * weight[~gtab.b0s_mask, None]\n",
      "    dm = dm * weight[~gtab.b0s_mask, None]\n",
      "    dm = dm * weight[~gtab.b0s_mask, None]\n",
      "    dm = dm * weight[~gtab.b0s_mask, None]\n",
      "    dm = dm * weight[~gtab.b0s_mask, None]\n",
      "    dm = dm * weight[~gtab.b0s_mask, None]\n",
      "NameError: global name 'gtab' is not defined\n",
      "NameError: global name 'gtab' is not defined\n",
      "NameError: global name 'gtab' is not defined\n",
      "NameError: global name 'gtab' is not defined\n",
      "NameError: global name 'gtab' is not defined\n",
      "NameError: global name 'gtab' is not defined\n",
      "NameError: global name 'gtab' is not defined\n",
      "NameError: global name 'gtab' is not defined\n",
      "NameError: global name 'gtab' is not defined\n",
      "NameError: global name 'gtab' is not defined\n",
      "NameError: global name 'gtab' is not defined\n",
      "NameError: global name 'gtab' is not defined\n",
      "NameError: global name 'gtab' is not defined\n",
      "NameError: global name 'gtab' is not defined\n",
      "NameError: global name 'gtab' is not defined\n",
      "NameError: global name 'gtab' is not defined\n",
      "NameError: global name 'gtab' is not defined\n",
      "NameError: global name 'gtab' is not defined\n",
      "NameError: global name 'gtab' is not defined\n",
      "NameError: global name 'gtab' is not defined\n",
      "NameError: global name 'gtab' is not defined\n",
      "NameError: global name 'gtab' is not defined\n",
      "NameError: global name 'gtab' is not defined\n",
      "NameError: global name 'gtab' is not defined\n",
      "NameError: global name 'gtab' is not defined\n",
      "NameError: global name 'gtab' is not defined\n",
      "NameError: global name 'gtab' is not defined\n",
      "NameError: global name 'gtab' is not defined\n",
      "NameError: global name 'gtab' is not defined\n",
      "NameError: global name 'gtab' is not defined\n",
      "NameError: global name 'gtab' is not defined\n",
      "NameError: global name 'gtab' is not defined\n"
     ]
    }
   ],
   "source": [
    "fits = p.start([i.fit for i in models], n, data_seen*n_variations, te_seen*n_variations)"
   ]
  },
  {
   "cell_type": "code",
   "execution_count": null,
   "metadata": {
    "collapsed": false
   },
   "outputs": [],
   "source": [
    "predicts = p.start([i.predict for i in fits], n, gtab_unseen*n_variations, te_unseen*n_variations)"
   ]
  },
  {
   "cell_type": "code",
   "execution_count": null,
   "metadata": {
    "collapsed": false
   },
   "outputs": [],
   "source": [
    "predicts_seen = p.start([i.predict for i in fits], n, gtab_seen*n_variations, te_seen*n_variations)"
   ]
  },
  {
   "cell_type": "code",
   "execution_count": null,
   "metadata": {
    "collapsed": false
   },
   "outputs": [],
   "source": [
    "filename = 'predictions_seen.csv'\n",
    "with open(filename, 'w') as f:\n",
    "   writer = csv.writer(f, delimiter=',')\n",
    "   writer.writerows(predicts_seen)"
   ]
  },
  {
   "cell_type": "code",
   "execution_count": null,
   "metadata": {
    "collapsed": true
   },
   "outputs": [],
   "source": [
    "filename = 'predictions.csv'\n",
    "with open(filename, 'w') as f:\n",
    "   writer = csv.writer(f, delimiter=',')\n",
    "   writer.writerows(predicts)"
   ]
  },
  {
   "cell_type": "code",
   "execution_count": null,
   "metadata": {
    "collapsed": true
   },
   "outputs": [],
   "source": [
    "betas = []\n",
    "te_params = []\n",
    "iso_params = []\n",
    "S0s = []\n",
    "for i in fits:\n",
    "    betas.append(i.beta)\n",
    "    te_params.append(i.te_params)\n",
    "    iso_params.append(i.iso.params)\n",
    "    S0s.append([i.S0])"
   ]
  },
  {
   "cell_type": "code",
   "execution_count": null,
   "metadata": {
    "collapsed": true
   },
   "outputs": [],
   "source": [
    "filename = 'betas.csv'\n",
    "with open(filename, 'w') as f:\n",
    "   writer = csv.writer(f, delimiter=',')\n",
    "   writer.writerows(betas)"
   ]
  },
  {
   "cell_type": "code",
   "execution_count": null,
   "metadata": {
    "collapsed": true
   },
   "outputs": [],
   "source": [
    "filename = 'te_params.csv'\n",
    "with open(filename, 'w') as f:\n",
    "   writer = csv.writer(f, delimiter=',')\n",
    "   writer.writerows(te_params)"
   ]
  },
  {
   "cell_type": "code",
   "execution_count": null,
   "metadata": {
    "collapsed": true
   },
   "outputs": [],
   "source": [
    "filename = 'iso_params.csv'\n",
    "with open(filename, 'w') as f:\n",
    "   writer = csv.writer(f, delimiter=',')\n",
    "   writer.writerows(iso_params)"
   ]
  },
  {
   "cell_type": "code",
   "execution_count": null,
   "metadata": {
    "collapsed": false
   },
   "outputs": [],
   "source": [
    "filename = 'S0s.csv'\n",
    "with open(filename, 'w') as f:\n",
    "   writer = csv.writer(f, delimiter=',')\n",
    "   writer.writerows(S0s)"
   ]
  },
  {
   "cell_type": "code",
   "execution_count": null,
   "metadata": {
    "collapsed": false
   },
   "outputs": [],
   "source": [
    "LSEs = np.zeros(n)\n",
    "for j in range(0,n):\n",
    "    LSEs[j] = utils.LSE(predicts[j], (data_unseen*n_variations)[j])"
   ]
  },
  {
   "cell_type": "code",
   "execution_count": null,
   "metadata": {
    "collapsed": false
   },
   "outputs": [],
   "source": [
    "LSE_average = np.zeros(n_variations)\n",
    "for m in range(n_variations):\n",
    "    LSE_average[m] = np.mean(LSEs[range(m*n_voxels, (m+1)*n_voxels)])"
   ]
  },
  {
   "cell_type": "code",
   "execution_count": null,
   "metadata": {
    "collapsed": false
   },
   "outputs": [],
   "source": [
    "print(\"Median LSE = %s\"%np.mean(LSEs))"
   ]
  },
  {
   "cell_type": "code",
   "execution_count": null,
   "metadata": {
    "collapsed": false
   },
   "outputs": [],
   "source": [
    "LSEs"
   ]
  },
  {
   "cell_type": "code",
   "execution_count": null,
   "metadata": {
    "collapsed": true
   },
   "outputs": [],
   "source": []
  }
 ],
 "metadata": {
  "kernelspec": {
   "display_name": "Python 2",
   "language": "python",
   "name": "python2"
  },
  "language_info": {
   "codemirror_mode": {
    "name": "ipython",
    "version": 2
   },
   "file_extension": ".py",
   "mimetype": "text/x-python",
   "name": "python",
   "nbconvert_exporter": "python",
   "pygments_lexer": "ipython2",
   "version": "2.7.3"
  }
 },
 "nbformat": 4,
 "nbformat_minor": 0
}
