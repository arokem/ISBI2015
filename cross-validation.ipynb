{
 "cells": [
  {
   "cell_type": "code",
   "execution_count": 1,
   "metadata": {
    "collapsed": true
   },
   "outputs": [],
   "source": [
    "import numpy as np\n",
    "import matplotlib.pyplot as plt\n",
    "%matplotlib inline\n",
    "import seaborn as sns\n",
    "sns.set()\n",
    "import dipy.reconst.sfm as sfm\n",
    "import dipy.reconst.csdeconv as csd\n",
    "import dipy.reconst.dti as dti\n",
    "import dipy.core.gradients as grad\n",
    "import dipy.reconst.cross_validation as xval\n",
    "import dipy.data as dpd\n",
    "import utils\n",
    "import model as mm \n",
    "from model import Model, BiExponentialIsotropicModel\n",
    "from parallelization import parallelization"
   ]
  },
  {
   "cell_type": "code",
   "execution_count": 2,
   "metadata": {
    "collapsed": true
   },
   "outputs": [],
   "source": [
    "sphere = dpd.get_sphere()\n",
    "sphere = sphere.subdivide(1)"
   ]
  },
  {
   "cell_type": "code",
   "execution_count": 3,
   "metadata": {
    "collapsed": false
   },
   "outputs": [],
   "source": [
    "# Load Data\n",
    "data_dict = utils.read_data()\n",
    "data = data_dict['seen']['signal'][:, 0]\n",
    "bvals = data_dict['seen']['bvals']\n",
    "bvecs = data_dict['seen']['bvecs']\n",
    "delta = data_dict['seen']['delta']\n",
    "Delta = data_dict['seen']['Delta']\n",
    "te = data_dict['seen']['TE']\n",
    "g = data_dict['seen']['g']"
   ]
  },
  {
   "cell_type": "code",
   "execution_count": 4,
   "metadata": {
    "collapsed": true
   },
   "outputs": [],
   "source": [
    "# Split Data 66% seen and 34% unseen. B0 are always seen, unseen is one shell per TE quadrupel\n",
    "n = 4\n",
    "data_seen = []\n",
    "data_unseen = []\n",
    "te_seen = []\n",
    "te_unseen = []\n",
    "gtab_seen = []\n",
    "gtab_unseen = []\n",
    "\n",
    "for j in range(0, n): \n",
    "    mask_seen, mask_unseen = utils.split_data()\n",
    "    data_seen.append(data[mask_seen])\n",
    "    data_unseen.append(data[mask_unseen])\n",
    "    te_seen.append(te[mask_seen])\n",
    "    te_unseen.append(te[mask_unseen])\n",
    "    bvals_seen_temp = bvals[mask_seen]\n",
    "    bvecs_seen_temp = bvecs[mask_seen]\n",
    "    delta_seen_temp = delta[mask_seen]\n",
    "    Delta_seen_temp = Delta[mask_seen]\n",
    "    gtab_seen.append(grad.gradient_table(bvals_seen_temp, bvecs_seen_temp, big_delta=Delta_seen_temp, small_delta=delta_seen_temp))\n",
    "    bvals_unseen_temp = bvals[mask_unseen]\n",
    "    bvecs_unseen_temp = bvecs[mask_unseen]\n",
    "    delta_unseen_temp = delta[mask_unseen]\n",
    "    Delta_unseen_temp = Delta[mask_unseen]\n",
    "    gtab_unseen.append(grad.gradient_table(bvals_unseen_temp, bvecs_unseen_temp, big_delta=Delta_unseen_temp, small_delta=delta_unseen_temp))"
   ]
  },
  {
   "cell_type": "code",
   "execution_count": 5,
   "metadata": {
    "collapsed": false
   },
   "outputs": [],
   "source": [
    "p = parallelization()"
   ]
  },
  {
   "cell_type": "code",
   "execution_count": 6,
   "metadata": {
    "collapsed": false
   },
   "outputs": [
    {
     "name": "stdout",
     "output_type": "stream",
     "text": [
      "Parallelization starts on 4 CPUs.\n",
      "100%      0.00min remaining\n",
      "Total Time needed: 0.00min\n",
      " 25%      0.00min remaining\n",
      " 50%      0.01min remaining\n",
      " 75%      0.01min remaining\n"
     ]
    }
   ],
   "source": [
    "models = p.start(Model, n, gtab_seen, sphere=[sphere], isotropic=[BiExponentialIsotropicModel])"
   ]
  },
  {
   "cell_type": "code",
   "execution_count": 7,
   "metadata": {
    "collapsed": false
   },
   "outputs": [
    {
     "name": "stdout",
     "output_type": "stream",
     "text": [
      "Parallelization starts on 4 CPUs.\n",
      "100%      0.00min remaining\n",
      "Total Time needed: 4.27min\n",
      " 25%      0.00min remaining\n",
      " 50%      0.01min remaining\n",
      " 75%      0.00min remaining\n"
     ]
    }
   ],
   "source": [
    "fits = p.start([i.fit for i in models], n, data_seen, te_seen)"
   ]
  },
  {
   "cell_type": "code",
   "execution_count": 8,
   "metadata": {
    "collapsed": false
   },
   "outputs": [
    {
     "name": "stdout",
     "output_type": "stream",
     "text": [
      "Parallelization starts on 4 CPUs.\n",
      "100%      0.00min remaining\n",
      "Total Time needed: 1.83min\n",
      " 25%      0.01min remaining\n",
      " 50%      0.01min remaining\n",
      " 75%      0.00min remaining\n"
     ]
    }
   ],
   "source": [
    "predicts = p.start([i.predict for i in fits], n, gtab_unseen, te_unseen)"
   ]
  },
  {
   "cell_type": "code",
   "execution_count": 9,
   "metadata": {
    "collapsed": false
   },
   "outputs": [
    {
     "name": "stdout",
     "output_type": "stream",
     "text": [
      "LSE=2.93207617959\n",
      "LSE=3.89976300354\n",
      "LSE=2.46173546663\n",
      "LSE=1.5428659537\n"
     ]
    }
   ],
   "source": [
    "LSEs = np.zeros(n)\n",
    "for j in range(0,n):\n",
    "    LSEs[j] = utils.LSE(predicts[j], data_unseen[j])\n",
    "    print(\"LSE=%s\"%LSEs[j])"
   ]
  },
  {
   "cell_type": "code",
   "execution_count": 10,
   "metadata": {
    "collapsed": false
   },
   "outputs": [
    {
     "name": "stdout",
     "output_type": "stream",
     "text": [
      "Mean LSE = 2.70911015086\n"
     ]
    }
   ],
   "source": [
    "print(\"Mean LSE = %s\"%np.mean(LSEs))"
   ]
  }
 ],
 "metadata": {
  "kernelspec": {
   "display_name": "Python 2",
   "language": "python",
   "name": "python2"
  },
  "language_info": {
   "codemirror_mode": {
    "name": "ipython",
    "version": 2
   },
   "file_extension": ".py",
   "mimetype": "text/x-python",
   "name": "python",
   "nbconvert_exporter": "python",
   "pygments_lexer": "ipython2",
   "version": "2.7.9"
  }
 },
 "nbformat": 4,
 "nbformat_minor": 0
}
