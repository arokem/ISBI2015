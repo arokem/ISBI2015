{
 "cells": [
  {
   "cell_type": "code",
   "execution_count": 1,
   "metadata": {
    "collapsed": true
   },
   "outputs": [],
   "source": [
    "import numpy as np\n",
    "import matplotlib.pyplot as plt\n",
    "%matplotlib inline\n",
    "import seaborn as sns\n",
    "sns.set()"
   ]
  },
  {
   "cell_type": "code",
   "execution_count": 2,
   "metadata": {
    "collapsed": false
   },
   "outputs": [],
   "source": [
    "import dipy.reconst.sfm as sfm\n",
    "import dipy.reconst.csdeconv as csd\n",
    "import dipy.reconst.dti as dti\n",
    "import dipy.core.gradients as grad\n",
    "import dipy.reconst.cross_validation as xval\n",
    "import dipy.data as dpd"
   ]
  },
  {
   "cell_type": "code",
   "execution_count": 3,
   "metadata": {
    "collapsed": false
   },
   "outputs": [],
   "source": [
    "import utils\n",
    "import model as mm \n",
    "from model import Model, BiExponentialIsotropicModel"
   ]
  },
  {
   "cell_type": "code",
   "execution_count": 4,
   "metadata": {
    "collapsed": false
   },
   "outputs": [],
   "source": [
    "from parallelization import parallelization"
   ]
  },
  {
   "cell_type": "code",
   "execution_count": 5,
   "metadata": {
    "collapsed": false
   },
   "outputs": [
    {
     "data": {
      "text/plain": [
       "[[0.001, 0.0, 0.0],\n",
       " [0.001, 0.00050000000000000001, 0.00050000000000000001],\n",
       " [0.0015, 0.0, 0.0],\n",
       " [0.0015, 0.00050000000000000001, 0.00050000000000000001],\n",
       " [0.0015, 0.001, 0.001]]"
      ]
     },
     "execution_count": 5,
     "metadata": {},
     "output_type": "execute_result"
    }
   ],
   "source": [
    "mm.my_responses"
   ]
  },
  {
   "cell_type": "code",
   "execution_count": 6,
   "metadata": {
    "collapsed": false
   },
   "outputs": [],
   "source": [
    "data = utils.read_data()"
   ]
  },
  {
   "cell_type": "code",
   "execution_count": 7,
   "metadata": {
    "collapsed": false
   },
   "outputs": [],
   "source": [
    "data1 = data['seen']['signal'][:, 0][::2]\n",
    "bvals1 = data['seen']['bvals'][::2]\n",
    "bvecs1 = data['seen']['bvecs'][::2]\n",
    "delta1 = data['seen']['delta'][::2]\n",
    "Delta1 = data['seen']['Delta'][::2]\n",
    "te1 = data['seen']['TE'][::2]\n",
    "g1 = data['seen']['g'][::2]\n",
    "\n",
    "data2 = data['seen']['signal'][:, 0][1::2]\n",
    "bvals2 = data['seen']['bvals'][1::2]\n",
    "bvecs2 = data['seen']['bvecs'][1::2]\n",
    "delta2 = data['seen']['delta'][1::2]\n",
    "Delta2 = data['seen']['Delta'][1::2]\n",
    "te2 = data['seen']['TE'][1::2]\n",
    "g2 = data['seen']['g'][1::2]"
   ]
  },
  {
   "cell_type": "code",
   "execution_count": 8,
   "metadata": {
    "collapsed": false
   },
   "outputs": [],
   "source": [
    "gtab1 = grad.gradient_table(bvals1, bvecs1, big_delta=Delta1, small_delta=delta1)\n",
    "gtab2 = grad.gradient_table(bvals2, bvecs2, big_delta=Delta2, small_delta=delta2)"
   ]
  },
  {
   "cell_type": "code",
   "execution_count": 9,
   "metadata": {
    "collapsed": true
   },
   "outputs": [],
   "source": [
    "sphere = dpd.get_sphere()"
   ]
  },
  {
   "cell_type": "code",
   "execution_count": 10,
   "metadata": {
    "collapsed": false
   },
   "outputs": [],
   "source": [
    "sphere = sphere.subdivide(1)"
   ]
  },
  {
   "cell_type": "code",
   "execution_count": 11,
   "metadata": {
    "collapsed": false
   },
   "outputs": [
    {
     "data": {
      "text/plain": [
       "(1442,)"
      ]
     },
     "execution_count": 11,
     "metadata": {},
     "output_type": "execute_result"
    }
   ],
   "source": [
    "sphere.x.shape"
   ]
  },
  {
   "cell_type": "code",
   "execution_count": 12,
   "metadata": {
    "collapsed": false
   },
   "outputs": [],
   "source": [
    "p = parallelization()"
   ]
  },
  {
   "cell_type": "code",
   "execution_count": 13,
   "metadata": {
    "collapsed": false
   },
   "outputs": [
    {
     "name": "stdout",
     "output_type": "stream",
     "text": [
      "Parallelization starts on 4 CPUs.\n",
      "100%      0.00min remaining\n",
      "Total Time needed: 0.00min\n",
      " 50%      0.01min remaining\n"
     ]
    }
   ],
   "source": [
    "models = p.start(Model, 2, [gtab1, gtab2], sphere=[sphere], isotropic=[BiExponentialIsotropicModel])"
   ]
  },
  {
   "cell_type": "code",
   "execution_count": 14,
   "metadata": {
    "collapsed": false
   },
   "outputs": [
    {
     "name": "stdout",
     "output_type": "stream",
     "text": [
      "Parallelization starts on 4 CPUs.\n",
      "100%      0.00min remaining\n",
      "Total Time needed: 1.79min\n",
      " 50%      0.00min remaining\n"
     ]
    }
   ],
   "source": [
    "fits = p.start([i.fit for i in models], 2, [data1, data2], [te1, te2])"
   ]
  },
  {
   "cell_type": "code",
   "execution_count": 15,
   "metadata": {
    "collapsed": false
   },
   "outputs": [
    {
     "name": "stdout",
     "output_type": "stream",
     "text": [
      "Parallelization starts on 4 CPUs.\n",
      "100%      0.00min remaining\n",
      "Total Time needed: 2.82min\n",
      " 25%      0.01min remaining\n",
      " 50%      0.01min remaining\n",
      " 75%      0.00min remaining\n"
     ]
    }
   ],
   "source": [
    "predicts = p.start([i.predict for i in fits] + [i.predict for i in fits], 4, [gtab2, gtab1, gtab1, gtab2], [te2, te1, te1, te2])"
   ]
  },
  {
   "cell_type": "code",
   "execution_count": 16,
   "metadata": {
    "collapsed": false
   },
   "outputs": [
    {
     "name": "stdout",
     "output_type": "stream",
     "text": [
      "Fit 1 => Predict 2: LSE=2.72744449274\n",
      "Fit 2 => Predict 1: LSE=2.67612369779\n",
      "Fit 1 => Predict 1: LSE=2.65999732383\n",
      "Fit 2 => Predict 2: LSE=2.73660123248\n"
     ]
    },
    {
     "data": {
      "text/plain": [
       "2.7017840952674641"
      ]
     },
     "execution_count": 16,
     "metadata": {},
     "output_type": "execute_result"
    }
   ],
   "source": [
    "print(\"Fit 1 => Predict 2: LSE=%s\"%utils.LSE(predicts[0], data2))\n",
    "print(\"Fit 2 => Predict 1: LSE=%s\"%utils.LSE(predicts[1], data1))\n",
    "print(\"Fit 1 => Predict 1: LSE=%s\"%utils.LSE(predicts[2], data1))\n",
    "print(\"Fit 2 => Predict 2: LSE=%s\"%utils.LSE(predicts[3], data2))\n",
    "np.mean([utils.LSE(predicts[0], data2), utils.LSE(predicts[1], data1)])"
   ]
  }
 ],
 "metadata": {
  "kernelspec": {
   "display_name": "Python 2",
   "language": "python",
   "name": "python2"
  },
  "language_info": {
   "codemirror_mode": {
    "name": "ipython",
    "version": 2
   },
   "file_extension": ".py",
   "mimetype": "text/x-python",
   "name": "python",
   "nbconvert_exporter": "python",
   "pygments_lexer": "ipython2",
   "version": "2.7.9"
  }
 },
 "nbformat": 4,
 "nbformat_minor": 0
}
