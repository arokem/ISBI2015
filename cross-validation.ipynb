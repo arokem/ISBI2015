{
 "cells": [
  {
   "cell_type": "code",
   "execution_count": 1,
   "metadata": {
    "collapsed": true
   },
   "outputs": [],
   "source": [
    "import numpy as np\n",
    "import matplotlib.pyplot as plt\n",
    "%matplotlib inline\n",
    "import seaborn as sns\n",
    "sns.set()"
   ]
  },
  {
   "cell_type": "code",
   "execution_count": 2,
   "metadata": {
    "collapsed": false
   },
   "outputs": [],
   "source": [
    "import dipy.reconst.sfm as sfm\n",
    "import dipy.reconst.csdeconv as csd\n",
    "import dipy.reconst.dti as dti\n",
    "import dipy.core.gradients as grad\n",
    "import dipy.reconst.cross_validation as xval\n",
    "import dipy.data as dpd"
   ]
  },
  {
   "cell_type": "code",
   "execution_count": 3,
   "metadata": {
    "collapsed": false
   },
   "outputs": [],
   "source": [
    "import utils\n",
    "import model as mm \n",
    "from model import Model, BiExponentialIsotropicModel"
   ]
  },
  {
   "cell_type": "code",
   "execution_count": 4,
   "metadata": {
    "collapsed": false
   },
   "outputs": [
    {
     "data": {
      "text/plain": [
       "[[0.001, 0.0, 0.0],\n",
       " [0.001, 0.00050000000000000001, 0.00050000000000000001],\n",
       " [0.0015, 0.0, 0.0],\n",
       " [0.0015, 0.00050000000000000001, 0.00050000000000000001],\n",
       " [0.0015, 0.001, 0.001]]"
      ]
     },
     "execution_count": 4,
     "metadata": {},
     "output_type": "execute_result"
    }
   ],
   "source": [
    "mm.my_responses"
   ]
  },
  {
   "cell_type": "code",
   "execution_count": 5,
   "metadata": {
    "collapsed": false
   },
   "outputs": [],
   "source": [
    "data = utils.read_data()"
   ]
  },
  {
   "cell_type": "code",
   "execution_count": 6,
   "metadata": {
    "collapsed": false
   },
   "outputs": [],
   "source": [
    "data1 = data['seen']['signal'][:, 0][::2]\n",
    "bvals1 = data['seen']['bvals'][::2]\n",
    "bvecs1 = data['seen']['bvecs'][::2]\n",
    "delta1 = data['seen']['delta'][::2]\n",
    "Delta1 = data['seen']['Delta'][::2]\n",
    "te1 = data['seen']['TE'][::2]\n",
    "g1 = data['seen']['g'][::2]\n",
    "\n",
    "data2 = data['seen']['signal'][:, 0][1::2]\n",
    "bvals2 = data['seen']['bvals'][1::2]\n",
    "bvecs2 = data['seen']['bvecs'][1::2]\n",
    "delta2 = data['seen']['delta'][1::2]\n",
    "Delta2 = data['seen']['Delta'][1::2]\n",
    "te2 = data['seen']['TE'][1::2]\n",
    "g2 = data['seen']['g'][1::2]"
   ]
  },
  {
   "cell_type": "code",
   "execution_count": 7,
   "metadata": {
    "collapsed": false
   },
   "outputs": [],
   "source": [
    "gtab1 = grad.gradient_table(bvals1, bvecs1, big_delta=Delta1, small_delta=delta1)\n",
    "gtab2 = grad.gradient_table(bvals2, bvecs2, big_delta=Delta2, small_delta=delta2)"
   ]
  },
  {
   "cell_type": "code",
   "execution_count": 8,
   "metadata": {
    "collapsed": true
   },
   "outputs": [],
   "source": [
    "sphere = dpd.get_sphere()"
   ]
  },
  {
   "cell_type": "code",
   "execution_count": 9,
   "metadata": {
    "collapsed": false
   },
   "outputs": [],
   "source": [
    "#sphere = sphere.subdivide(1)"
   ]
  },
  {
   "cell_type": "code",
   "execution_count": 10,
   "metadata": {
    "collapsed": false
   },
   "outputs": [],
   "source": [
    "#sphere.x.shape"
   ]
  },
  {
   "cell_type": "code",
   "execution_count": 11,
   "metadata": {
    "collapsed": false
   },
   "outputs": [],
   "source": [
    "model1 = Model(gtab1, isotropic=BiExponentialIsotropicModel, sphere=sphere)#, alpha=0.000000001, l1_ratio=0.01)\n",
    "model2 = Model(gtab2, isotropic=BiExponentialIsotropicModel, sphere=sphere)"
   ]
  },
  {
   "cell_type": "code",
   "execution_count": 12,
   "metadata": {
    "collapsed": false
   },
   "outputs": [],
   "source": [
    "fit1 = model1.fit(data1, te1)\n",
    "fit2 = model2.fit(data2, te2)"
   ]
  },
  {
   "cell_type": "code",
   "execution_count": 13,
   "metadata": {
    "collapsed": false
   },
   "outputs": [],
   "source": [
    "predict12 = fit1.predict(gtab2, te2)\n",
    "predict21 = fit2.predict(gtab1, te1)\n",
    "predict11 = fit1.predict(gtab1, te1)\n",
    "predict22 = fit2.predict(gtab2, te2)"
   ]
  },
  {
   "cell_type": "code",
   "execution_count": 14,
   "metadata": {
    "collapsed": false
   },
   "outputs": [
    {
     "data": {
      "text/plain": [
       "(2172,)"
      ]
     },
     "execution_count": 14,
     "metadata": {},
     "output_type": "execute_result"
    }
   ],
   "source": [
    "fit1.beta.shape"
   ]
  },
  {
   "cell_type": "code",
   "execution_count": 15,
   "metadata": {
    "collapsed": false
   },
   "outputs": [
    {
     "name": "stdout",
     "output_type": "stream",
     "text": [
      "Fit 1 => Predict 2: LSE=2.79178139128\n",
      "Fit 2 => Predict 1: LSE=2.74690596909\n",
      "Fit 1 => Predict 1: LSE=2.7284170543\n",
      "Fit 2 => Predict 2: LSE=2.80331388191\n"
     ]
    }
   ],
   "source": [
    "print(\"Fit 1 => Predict 2: LSE=%s\"%utils.LSE(predict12, data2))\n",
    "print(\"Fit 2 => Predict 1: LSE=%s\"%utils.LSE(predict21, data1))\n",
    "print(\"Fit 1 => Predict 1: LSE=%s\"%utils.LSE(predict11, data1))\n",
    "print(\"Fit 2 => Predict 2: LSE=%s\"%utils.LSE(predict22, data2))"
   ]
  },
  {
   "cell_type": "code",
   "execution_count": 16,
   "metadata": {
    "collapsed": false
   },
   "outputs": [
    {
     "data": {
      "text/plain": [
       "2.769343680184766"
      ]
     },
     "execution_count": 16,
     "metadata": {},
     "output_type": "execute_result"
    }
   ],
   "source": [
    "np.mean([utils.LSE(predict12, data2), utils.LSE(predict21, data1)])"
   ]
  }
 ],
 "metadata": {
  "kernelspec": {
   "display_name": "Python 2",
   "language": "python",
   "name": "python2"
  },
  "language_info": {
   "codemirror_mode": {
    "name": "ipython",
    "version": 2
   },
   "file_extension": ".py",
   "mimetype": "text/x-python",
   "name": "python",
   "nbconvert_exporter": "python",
   "pygments_lexer": "ipython2",
   "version": "2.7.9"
  }
 },
 "nbformat": 4,
 "nbformat_minor": 0
}
