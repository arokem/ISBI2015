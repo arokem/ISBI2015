{
 "cells": [
  {
   "cell_type": "markdown",
   "metadata": {},
   "source": [
    "# Restriction Spectrum Sparse Fascicle Model\n",
    "\n",
    "This notebook demonstrates the fitting of the RS-SFM model to the data from one voxel."
   ]
  },
  {
   "cell_type": "markdown",
   "metadata": {},
   "source": [
    "We start by importing general python tools for analysis and visualization. "
   ]
  },
  {
   "cell_type": "code",
   "execution_count": null,
   "metadata": {
    "collapsed": true
   },
   "outputs": [],
   "source": [
    "import numpy as np\n",
    "import matplotlib.pyplot as plt\n",
    "%matplotlib inline\n",
    "import seaborn as sns\n",
    "sns.set()"
   ]
  },
  {
   "cell_type": "markdown",
   "metadata": {},
   "source": [
    "We use the [`scikit-learn`](http://scikit-learn.org) implementation of the Elastic Net algorithm"
   ]
  },
  {
   "cell_type": "code",
   "execution_count": null,
   "metadata": {
    "collapsed": true
   },
   "outputs": [],
   "source": [
    "import sklearn.linear_model as lm"
   ]
  },
  {
   "cell_type": "markdown",
   "metadata": {},
   "source": [
    "We use functions from `dipy` to calculate model goodness-of-fit:"
   ]
  },
  {
   "cell_type": "code",
   "execution_count": null,
   "metadata": {
    "collapsed": true
   },
   "outputs": [],
   "source": [
    "from dipy.reconst.cross_validation import coeff_of_determination"
   ]
  },
  {
   "cell_type": "markdown",
   "metadata": {},
   "source": [
    "Finally, we import the local utility functions for this data set, as  well as our implementation of the RS-SFM model (which extends the implementation that exists in `dipy`)"
   ]
  },
  {
   "cell_type": "code",
   "execution_count": null,
   "metadata": {
    "collapsed": false
   },
   "outputs": [],
   "source": [
    "import utils\n",
    "from model import Model, BiExponentialIsotropicModel"
   ]
  },
  {
   "cell_type": "markdown",
   "metadata": {},
   "source": [
    "A utility function reads the data from the files:"
   ]
  },
  {
   "cell_type": "code",
   "execution_count": null,
   "metadata": {
    "collapsed": false
   },
   "outputs": [],
   "source": [
    "data = utils.read_data()"
   ]
  },
  {
   "cell_type": "markdown",
   "metadata": {},
   "source": [
    "The next cell can be changed to choose data from another voxel (there are 6 voxels from each one of the ROIs). "
   ]
  },
  {
   "cell_type": "code",
   "execution_count": null,
   "metadata": {
    "collapsed": true
   },
   "outputs": [],
   "source": [
    "vox_idx = 0"
   ]
  },
  {
   "cell_type": "markdown",
   "metadata": {},
   "source": [
    "The fornix ROI can be chosen by changing `seen` to `seenX` in the following cell"
   ]
  },
  {
   "cell_type": "code",
   "execution_count": null,
   "metadata": {
    "collapsed": false
   },
   "outputs": [],
   "source": [
    "signal = data['seen']['signal'][:, vox_idx]\n",
    "bvals = data['seen']['bvals']\n",
    "bvecs = data['seen']['bvecs']\n",
    "delta = data['seen']['delta']\n",
    "Delta = data['seen']['Delta']\n",
    "te = data['seen']['TE']\n",
    "g = data['seen']['g']"
   ]
  },
  {
   "cell_type": "markdown",
   "metadata": {},
   "source": [
    "This is the measurement gradient table (b-values and b-vectors)"
   ]
  },
  {
   "cell_type": "code",
   "execution_count": null,
   "metadata": {
    "collapsed": true
   },
   "outputs": [],
   "source": [
    "gtab = grad.gradient_table(bvals, \n",
    "                           bvecs, \n",
    "                           big_delta=Delta, \n",
    "                           small_delta=delta)"
   ]
  },
  {
   "cell_type": "markdown",
   "metadata": {},
   "source": [
    "The following sets up the model, specifying the measurement scheme (`gtab`), as well as the model of the isotropic signal (`BiExponentialIsotropicModel`) and the `ElasticNet` solver parameters:"
   ]
  },
  {
   "cell_type": "code",
   "execution_count": null,
   "metadata": {
    "collapsed": true
   },
   "outputs": [],
   "source": [
    "model = Model(gtab, \n",
    "              isotropic=BiExponentialIsotropicModel, \n",
    "              solver=lm.ElasticNet(l1_ratio=0.4, \n",
    "                                   alpha=5e-7, \n",
    "                                   positive=True, \n",
    "                                   warm_start=True, \n",
    "                                   fit_intercept=True, \n",
    "                                   normalize=True))"
   ]
  },
  {
   "cell_type": "markdown",
   "metadata": {},
   "source": [
    "We fit the model with the signal provided for this voxel, and with TE and G, used to fit T2 effects, and to weight the measurements"
   ]
  },
  {
   "cell_type": "code",
   "execution_count": null,
   "metadata": {
    "collapsed": true
   },
   "outputs": [],
   "source": [
    "fit = model.fit(signal, te, g)"
   ]
  },
  {
   "cell_type": "code",
   "execution_count": null,
   "metadata": {
    "collapsed": true
   },
   "outputs": [],
   "source": [
    "We predict back the signal using the derived model parameters"
   ]
  },
  {
   "cell_type": "code",
   "execution_count": null,
   "metadata": {
    "collapsed": true
   },
   "outputs": [],
   "source": [
    "predict = fit.predict(gtab, te)"
   ]
  },
  {
   "cell_type": "markdown",
   "metadata": {},
   "source": [
    "The first visualization provides an overall sense of the goodness of fit, and calculates the coefficient of determination ($R^2$) of the fit"
   ]
  },
  {
   "cell_type": "code",
   "execution_count": null,
   "metadata": {
    "collapsed": false
   },
   "outputs": [],
   "source": [
    "fig, ax = plt.subplots(1)\n",
    "plt.scatter(predict, signal)\n",
    "plt.plot([0, 500], [0, 500], 'k--')\n",
    "print('R-squared = %s'%coeff_of_determination(signal, predict))"
   ]
  },
  {
   "cell_type": "markdown",
   "metadata": {},
   "source": [
    "The next visualization examines the fit in different gradient strength settings. Each plot corresponds to a gradient strength range. Data is plotted so that the signal measured is on the left side of each plot, and the signal predicted is on the right side. The data are plotted as a function of the angle of the direction of the diffusion gradient for each data-point, relative to the sagittal direction ([1, 0, 0]). Different color points in each figure "
   ]
  },
  {
   "cell_type": "code",
   "execution_count": null,
   "metadata": {
    "collapsed": false
   },
   "outputs": [],
   "source": [
    "g_tiers = [0, 85, 185, 265, 350]\n",
    "g_labels = []\n",
    "for g_group in range(len(g_tiers)-1):\n",
    "    g_idx = np.where(np.logical_and(g > g_tiers[g_group], g < g_tiers[g_group+1]))\n",
    "    this_predict = predict[g_idx]\n",
    "    this_signal = signal[g_idx]\n",
    "    this_bvec = bvecs[g_idx]\n",
    "    this_bval = bvals[g_idx]\n",
    "    x = []\n",
    "    y1 = []\n",
    "    y2 = []\n",
    "    b = []\n",
    "    for idx, bv in enumerate(this_bvec):\n",
    "        if this_bval[idx]>0:\n",
    "            x.append(np.abs(np.dot(bv, [1, 0, 0])))    \n",
    "            b.append(this_bval[idx])\n",
    "            y1.append(this_predict[idx])\n",
    "            y2.append(this_signal[idx])        \n",
    "        \n",
    "    fig, ax = plt.subplots(1)\n",
    "    pal = np.array(sns.color_palette(name='spectral', n_colors=len(np.unique(b))))\n",
    "    for ii, bb in enumerate(np.unique(b)):\n",
    "        bb_idx = np.where(b==bb)\n",
    "        ax.scatter(np.array(x)[bb_idx], np.array(y1)[bb_idx], color=pal[np.mod(ii, len(pal))])\n",
    "        ax.scatter(-np.array(x)[bb_idx], np.array(y2)[bb_idx], color=pal[np.mod(ii, len(pal))])\n",
    "        # This one's just so we can get a nice legend:\n",
    "        ax.plot(-1.2, 0, '.', color=pal[np.mod(ii, len(pal))], label='%s'%np.int(bb))\n",
    "    \n",
    "    ax.set_xlabel('    Data                                                       Prediction\\n Angle (relative to saggital)')\n",
    "    ax.set_ylabel('MRI signal (a.u.)')\n",
    "    ax.set_ylim([-10, None])\n",
    "    ax.set_xlim([-1.1, 1.1])\n",
    "    ax.set_xticklabels([0, 90, 45, 0, 45, 90])\n",
    "    ax.set_title('Gradient strength (average) = %3.2f mT/m'%np.mean(g[g_idx]))\n",
    "    plt.legend(loc=1,bbox_to_anchor=(1.2, 1), title='b-value')"
   ]
  }
 ],
 "metadata": {
  "kernelspec": {
   "display_name": "Python 3",
   "language": "python",
   "name": "python3"
  },
  "language_info": {
   "codemirror_mode": {
    "name": "ipython",
    "version": 3
   },
   "file_extension": ".py",
   "mimetype": "text/x-python",
   "name": "python",
   "nbconvert_exporter": "python",
   "pygments_lexer": "ipython3",
   "version": "3.4.3"
  }
 },
 "nbformat": 4,
 "nbformat_minor": 0
}
