{
 "cells": [
  {
   "cell_type": "code",
   "execution_count": 1,
   "metadata": {
    "collapsed": true
   },
   "outputs": [],
   "source": [
    "import numpy as np\n",
    "import matplotlib.pyplot as plt\n",
    "%matplotlib inline\n",
    "import seaborn as sns\n",
    "sns.set()"
   ]
  },
  {
   "cell_type": "code",
   "execution_count": 2,
   "metadata": {
    "collapsed": false
   },
   "outputs": [],
   "source": [
    "import dipy.reconst.sfm as sfm\n",
    "import dipy.reconst.csdeconv as csd\n",
    "import dipy.reconst.dti as dti\n",
    "import dipy.core.gradients as grad"
   ]
  },
  {
   "cell_type": "code",
   "execution_count": 3,
   "metadata": {
    "collapsed": false
   },
   "outputs": [],
   "source": [
    "import utils\n",
    "from model import Model, BiExponentialIsotropicModel, my_responses"
   ]
  },
  {
   "cell_type": "code",
   "execution_count": 4,
   "metadata": {
    "collapsed": false
   },
   "outputs": [
    {
     "data": {
      "text/plain": [
       "[[0.0001, 0.0, 0.0],\n",
       " [0.00020000000000000001, 0.0, 0.0],\n",
       " [0.00020000000000000001, 0.0001, 0.0001],\n",
       " [0.00030000000000000003, 0.0, 0.0],\n",
       " [0.00030000000000000003, 0.0001, 0.0001],\n",
       " [0.00030000000000000003, 0.00020000000000000001, 0.00020000000000000001],\n",
       " [0.00040000000000000002, 0.0, 0.0],\n",
       " [0.00040000000000000002, 0.0001, 0.0001],\n",
       " [0.00040000000000000002, 0.00020000000000000001, 0.00020000000000000001],\n",
       " [0.00040000000000000002, 0.00030000000000000003, 0.00030000000000000003],\n",
       " [0.00050000000000000001, 0.0, 0.0],\n",
       " [0.00050000000000000001, 0.0001, 0.0001],\n",
       " [0.00050000000000000001, 0.00020000000000000001, 0.00020000000000000001],\n",
       " [0.00050000000000000001, 0.00030000000000000003, 0.00030000000000000003],\n",
       " [0.00050000000000000001, 0.00040000000000000002, 0.00040000000000000002]]"
      ]
     },
     "execution_count": 4,
     "metadata": {},
     "output_type": "execute_result"
    }
   ],
   "source": [
    "my_responses"
   ]
  },
  {
   "cell_type": "code",
   "execution_count": 5,
   "metadata": {
    "collapsed": false
   },
   "outputs": [],
   "source": [
    "data = utils.read_data()"
   ]
  },
  {
   "cell_type": "code",
   "execution_count": 6,
   "metadata": {
    "collapsed": false
   },
   "outputs": [],
   "source": [
    "all_bvals = data['seen']['bvals']\n",
    "unique_bvals = np.unique(all_bvals)\n",
    "b0s_idx = np.where(all_bvals==0)"
   ]
  },
  {
   "cell_type": "code",
   "execution_count": 7,
   "metadata": {
    "collapsed": false
   },
   "outputs": [
    {
     "data": {
      "text/plain": [
       "array([     0.        ,     51.01021361,     99.70178114,    103.05093658,\n",
       "          150.71199475,    199.40356228,    250.41377589,    299.10534342,\n",
       "          302.2827473 ,    399.32237925,    489.49194876,    502.37331583,\n",
       "          599.06944465,    650.50903716,   1004.74663166,   1308.05988833,\n",
       "         1604.84658568,   1709.88220696,   1951.09773259,   2061.0187316 ,\n",
       "         2086.78146575,   2550.51068036,   3040.00262912,   3175.49552721,\n",
       "         3188.13835045,   3541.89885728,   4457.90718243,   6492.20900455,\n",
       "         6732.66118991,  14564.53237001,  21495.66203036,  30228.2747302 ,\n",
       "        38060.1459103 ,  45892.01709039])"
      ]
     },
     "execution_count": 7,
     "metadata": {},
     "output_type": "execute_result"
    }
   ],
   "source": [
    "unique_bvals"
   ]
  },
  {
   "cell_type": "code",
   "execution_count": 8,
   "metadata": {
    "collapsed": true
   },
   "outputs": [],
   "source": [
    "vox_idx = 0"
   ]
  },
  {
   "cell_type": "code",
   "execution_count": 9,
   "metadata": {
    "collapsed": false
   },
   "outputs": [],
   "source": [
    "train_data = []\n",
    "train_bvals = []\n",
    "train_bvecs = []\n",
    "train_delta = []\n",
    "train_Delta = []\n",
    "train_te = []\n",
    "train_g = []\n",
    "\n",
    "for this_bv in unique_bvals[1:][::2]:\n",
    "    idx = np.where(all_bvals == this_bv)\n",
    "    train_data.append(data['seen']['signal'][:, vox_idx][idx])\n",
    "    train_bvals.append(data['seen']['bvals'][idx])\n",
    "    train_bvecs.append(data['seen']['bvecs'][idx])\n",
    "    train_delta.append(data['seen']['delta'][idx])\n",
    "    train_Delta.append(data['seen']['Delta'][idx])\n",
    "    train_te.append(data['seen']['TE'][idx])\n",
    "    train_g.append(data['seen']['g'][idx])\n",
    "\n",
    "train_data = np.hstack(train_data)\n",
    "train_bvals = np.hstack(train_bvals)\n",
    "train_bvecs = np.vstack(train_bvecs)\n",
    "train_delta = np.hstack(train_delta)\n",
    "train_Delta = np.hstack(train_Delta)\n",
    "train_te = np.hstack(train_te)\n",
    "train_g = np.hstack(train_g)\n",
    "    \n",
    "train_data = np.hstack([train_data, data['seen']['signal'][:, vox_idx][b0s_idx[::2]]])\n",
    "train_bvals = np.hstack([train_bvals, data['seen']['bvals'][b0s_idx[::2]]])\n",
    "train_bvecs = np.vstack([train_bvecs, data['seen']['bvecs'][b0s_idx[::2]]])\n",
    "train_delta = np.hstack([train_delta, data['seen']['delta'][b0s_idx[::2]]])\n",
    "train_Delta = np.hstack([train_Delta, data['seen']['Delta'][b0s_idx[::2]]])\n",
    "train_te = np.hstack([train_te, data['seen']['TE'][b0s_idx[::2]]])\n",
    "train_g = np.hstack([train_g, data['seen']['g'][b0s_idx[::2]]])\n",
    "    \n",
    "    \n",
    "test_data = []\n",
    "test_bvals = []\n",
    "test_bvecs = []\n",
    "test_delta = []\n",
    "test_Delta = []\n",
    "test_te = []\n",
    "test_g = []\n",
    "\n",
    "    \n",
    "for this_bv in unique_bvals[1:][1::2]:\n",
    "    idx = np.where(all_bvals == this_bv)\n",
    "    test_data.append(data['seen']['signal'][:, vox_idx][idx])\n",
    "    test_bvals.append(data['seen']['bvals'][idx])\n",
    "    test_bvecs.append(data['seen']['bvecs'][idx])\n",
    "    test_delta.append(data['seen']['delta'][idx])\n",
    "    test_Delta.append(data['seen']['Delta'][idx])\n",
    "    test_te.append(data['seen']['TE'][idx])\n",
    "    test_g.append(data['seen']['g'][idx])\n",
    "\n",
    "test_data = np.hstack(test_data)\n",
    "test_bvals = np.hstack(test_bvals)\n",
    "test_bvecs = np.vstack(test_bvecs)\n",
    "test_delta = np.hstack(test_delta)\n",
    "test_Delta = np.hstack(test_Delta)\n",
    "test_te = np.hstack(test_te)\n",
    "test_g = np.hstack(test_g)\n",
    "\n",
    "test_data = np.hstack([test_data, data['seen']['signal'][:, vox_idx][b0s_idx[1::2]]])\n",
    "test_bvals = np.hstack([test_bvals, data['seen']['bvals'][b0s_idx[1::2]]])\n",
    "test_bvecs = np.vstack([test_bvecs, data['seen']['bvecs'][b0s_idx[1::2]]])\n",
    "test_delta = np.hstack([test_delta, data['seen']['delta'][b0s_idx[1::2]]])\n",
    "test_Delta = np.hstack([test_Delta, data['seen']['Delta'][b0s_idx[1::2]]])\n",
    "test_te = np.hstack([test_te, data['seen']['TE'][b0s_idx[1::2]]])\n",
    "test_g = np.hstack([test_g, data['seen']['g'][b0s_idx[1::2]]])"
   ]
  },
  {
   "cell_type": "code",
   "execution_count": 10,
   "metadata": {
    "collapsed": false
   },
   "outputs": [
    {
     "data": {
      "text/plain": [
       "(1871, 3)"
      ]
     },
     "execution_count": 10,
     "metadata": {},
     "output_type": "execute_result"
    }
   ],
   "source": [
    "train_bvecs.shape"
   ]
  },
  {
   "cell_type": "code",
   "execution_count": 11,
   "metadata": {
    "collapsed": false
   },
   "outputs": [],
   "source": [
    "train_gtab = grad.gradient_table(train_bvals, train_bvecs, big_delta=train_Delta, small_delta=train_delta)\n",
    "test_gtab = grad.gradient_table(test_bvals, test_bvecs, big_delta=test_Delta, small_delta=test_delta)"
   ]
  },
  {
   "cell_type": "code",
   "execution_count": 12,
   "metadata": {
    "collapsed": true
   },
   "outputs": [],
   "source": [
    "train_s0 = train_data[train_gtab.b0s_mask]"
   ]
  },
  {
   "cell_type": "code",
   "execution_count": 13,
   "metadata": {
    "collapsed": false
   },
   "outputs": [],
   "source": [
    "import sklearn.linear_model as lm\n",
    "model1 = Model(train_gtab, isotropic=BiExponentialIsotropicModel, \n",
    "               solver=lm.ElasticNet(l1_ratio=0.1, alpha=1e-5, positive=True, warm_start=True, max_iter=25000, \n",
    "                                                                               fit_intercept=True, normalize=True))\n",
    "\n",
    "model2 = Model(test_gtab, isotropic=BiExponentialIsotropicModel, \n",
    "               solver=lm.ElasticNet(l1_ratio=0.1, alpha=1e-5, positive=True, warm_start=True, max_iter=25000, \n",
    "                                                                fit_intercept=True, normalize=True))"
   ]
  },
  {
   "cell_type": "code",
   "execution_count": null,
   "metadata": {
    "collapsed": false
   },
   "outputs": [],
   "source": [
    "fit1 = model1.fit(train_data, train_te, train_g)\n",
    "fit2 = model2.fit(test_data, test_te, test_g)"
   ]
  },
  {
   "cell_type": "code",
   "execution_count": null,
   "metadata": {
    "collapsed": false
   },
   "outputs": [],
   "source": [
    "predict1= fit1.predict(test_gtab, test_te)\n",
    "predict2= fit2.predict(train_gtab, train_te)"
   ]
  },
  {
   "cell_type": "code",
   "execution_count": null,
   "metadata": {
    "collapsed": false,
    "scrolled": true
   },
   "outputs": [],
   "source": [
    "plt.plot(test_gtab.bvals, test_data, '.')\n",
    "plt.plot(test_gtab.bvals, predict1, '.')"
   ]
  },
  {
   "cell_type": "code",
   "execution_count": null,
   "metadata": {
    "collapsed": false
   },
   "outputs": [],
   "source": [
    "plt.plot(train_gtab.bvals, train_data, '.')\n",
    "plt.plot(train_gtab.bvals, predict2, '.')"
   ]
  },
  {
   "cell_type": "code",
   "execution_count": null,
   "metadata": {
    "collapsed": false
   },
   "outputs": [],
   "source": [
    "plt.plot(predict1, test_data, '.')\n",
    "plt.plot(predict2, train_data, '.')"
   ]
  },
  {
   "cell_type": "code",
   "execution_count": null,
   "metadata": {
    "collapsed": false
   },
   "outputs": [],
   "source": [
    "utils.LSE(predict1, test_data), utils.LSE(predict2, train_data) "
   ]
  }
 ],
 "metadata": {
  "kernelspec": {
   "display_name": "Python 2",
   "language": "python",
   "name": "python2"
  },
  "language_info": {
   "codemirror_mode": {
    "name": "ipython",
    "version": 2
   },
   "file_extension": ".py",
   "mimetype": "text/x-python",
   "name": "python",
   "nbconvert_exporter": "python",
   "pygments_lexer": "ipython2",
   "version": "2.7.3"
  }
 },
 "nbformat": 4,
 "nbformat_minor": 0
}
