{
 "cells": [
  {
   "cell_type": "code",
   "execution_count": null,
   "metadata": {
    "collapsed": false
   },
   "outputs": [],
   "source": [
    "import numpy as np\n",
    "#%matplotlib inline\n",
    "import dipy.reconst.sfm as sfm\n",
    "import dipy.reconst.csdeconv as csd\n",
    "import dipy.reconst.dti as dti\n",
    "import dipy.core.gradients as grad\n",
    "import dipy.reconst.cross_validation as xval\n",
    "import dipy.data as dpd\n",
    "import utils\n",
    "import model as mm \n",
    "from model import Model, BiExponentialIsotropicModel, my_responses\n",
    "from parallelization import parallelization\n",
    "import csv\n",
    "import sklearn.linear_model as lm"
   ]
  },
  {
   "cell_type": "code",
   "execution_count": null,
   "metadata": {
    "collapsed": true
   },
   "outputs": [],
   "source": [
    "version = 'final3'"
   ]
  },
  {
   "cell_type": "code",
   "execution_count": null,
   "metadata": {
    "collapsed": false
   },
   "outputs": [],
   "source": [
    "# Load Data\n",
    "data_dict = utils.read_data()\n",
    "data = data_dict['seen']['signal']\n",
    "dataX = data_dict['seen']['signalX']\n",
    "bvals_seen = data_dict['seen']['bvals']\n",
    "bvecs_seen = data_dict['seen']['bvecs']\n",
    "delta_seen = data_dict['seen']['delta']\n",
    "Delta_seen = data_dict['seen']['Delta']\n",
    "te_seen = data_dict['seen']['TE']\n",
    "g_seen = data_dict['seen']['g']\n",
    "bvals_unseen = data_dict['unseen']['bvals']\n",
    "bvecs_unseen = data_dict['unseen']['bvecs']\n",
    "delta_unseen = data_dict['unseen']['delta']\n",
    "Delta_unseen = data_dict['unseen']['Delta']\n",
    "te_unseen = data_dict['unseen']['TE']\n",
    "g_unseen = data_dict['unseen']['g']\n",
    "gtab_seen= grad.gradient_table(bvals_seen, bvecs_seen, big_delta=Delta_seen, small_delta=delta_seen)\n",
    "gtab_unseen= grad.gradient_table(bvals_unseen, bvecs_unseen, big_delta=Delta_unseen, small_delta=delta_unseen)"
   ]
  },
  {
   "cell_type": "code",
   "execution_count": null,
   "metadata": {
    "collapsed": false
   },
   "outputs": [],
   "source": [
    "data_seen_list = []\n",
    "data_unseen_list = []\n",
    "te_seen_list = []\n",
    "te_unseen_list = []\n",
    "gtab_seen_list = []\n",
    "gtab_unseen_list = []\n",
    "g_seen_list = []\n",
    "g_unseen_list = []\n",
    "\n",
    "for d in [data, dataX]:\n",
    "    for m in range(data.shape[-1]): # for every voxel\n",
    "        data_seen_list.append(d[:,m])\n",
    "        te_seen_list.append(te_seen)\n",
    "        te_unseen_list.append(te_unseen)\n",
    "        g_seen_list.append(g_seen)\n",
    "        g_unseen_list.append(g_unseen)\n",
    "        gtab_seen_list.append(gtab_seen)\n",
    "        gtab_unseen_list.append(gtab_unseen)"
   ]
  },
  {
   "cell_type": "code",
   "execution_count": null,
   "metadata": {
    "collapsed": false
   },
   "outputs": [],
   "source": [
    "alphas = [5e-7]\n",
    "l1_ratios = [0.4]"
   ]
  },
  {
   "cell_type": "code",
   "execution_count": null,
   "metadata": {
    "collapsed": false
   },
   "outputs": [],
   "source": [
    "n_variations = len(alphas) * len(l1_ratios)\n",
    "n_voxels = len(data_seen_list)\n",
    "n = n_voxels * n_variations"
   ]
  },
  {
   "cell_type": "code",
   "execution_count": null,
   "metadata": {
    "collapsed": false
   },
   "outputs": [],
   "source": [
    "alpha_grid, l1_ratio_grid = np.meshgrid(alphas, l1_ratios)\n",
    "alpha_grid = np.reshape(alpha_grid, (n_variations, -1)).squeeze()\n",
    "l1_ratio_grid = np.reshape(l1_ratio_grid, (n_variations, -1)).squeeze()"
   ]
  },
  {
   "cell_type": "code",
   "execution_count": null,
   "metadata": {
    "collapsed": true
   },
   "outputs": [],
   "source": [
    "alpha = np.repeat(alpha_grid, n_voxels).tolist()\n",
    "l1_ratio = np.repeat(l1_ratio_grid, n_voxels).tolist()"
   ]
  },
  {
   "cell_type": "code",
   "execution_count": null,
   "metadata": {
    "collapsed": false
   },
   "outputs": [],
   "source": [
    "solvers = []\n",
    "for a, l in zip(alpha, l1_ratio):\n",
    "    solvers.append(lm.ElasticNet(l1_ratio=l, alpha=a, positive=True, warm_start=True, max_iter=25000, fit_intercept=True, normalize=True))"
   ]
  },
  {
   "cell_type": "code",
   "execution_count": null,
   "metadata": {
    "collapsed": false
   },
   "outputs": [],
   "source": [
    "p = parallelization()"
   ]
  },
  {
   "cell_type": "code",
   "execution_count": null,
   "metadata": {
    "collapsed": false
   },
   "outputs": [],
   "source": [
    "models = p.start(Model, n, gtab_seen_list*n_variations, isotropic=[BiExponentialIsotropicModel], solver=solvers)"
   ]
  },
  {
   "cell_type": "code",
   "execution_count": null,
   "metadata": {
    "collapsed": false
   },
   "outputs": [],
   "source": [
    "fits = p.start([i.fit for i in models], n, data_seen_list*n_variations, te_seen_list*n_variations,  g_seen_list*n_variations)"
   ]
  },
  {
   "cell_type": "code",
   "execution_count": null,
   "metadata": {
    "collapsed": false
   },
   "outputs": [],
   "source": [
    "predicts = p.start([i.predict for i in fits], n, gtab_unseen_list*n_variations, te_unseen_list*n_variations)"
   ]
  },
  {
   "cell_type": "code",
   "execution_count": null,
   "metadata": {
    "collapsed": true
   },
   "outputs": [],
   "source": [
    "all_predictions = np.asarray(predicts)"
   ]
  },
  {
   "cell_type": "code",
   "execution_count": null,
   "metadata": {
    "collapsed": true
   },
   "outputs": [],
   "source": [
    "np.savetxt('unseenSignal.txt', all_predictions[:6].T, fmt='%.4f', header='%—voxel1——-voxel2——-voxel3-—-voxel4——-voxel5——-voxel6')"
   ]
  },
  {
   "cell_type": "code",
   "execution_count": null,
   "metadata": {
    "collapsed": true
   },
   "outputs": [],
   "source": [
    "np.savetxt('unseenSignalX.txt', all_predictions[6:].T, fmt='%.4f', header='%—voxel1——-voxel2——-voxel3-—-voxel4——-voxel5——-voxel6')"
   ]
  },
  {
   "cell_type": "code",
   "execution_count": null,
   "metadata": {
    "collapsed": false
   },
   "outputs": [],
   "source": [
    "filename = 'predictions'\n",
    "with open(filename + '_' + version + '.csv', 'w') as f:\n",
    "   writer = csv.writer(f, delimiter=',')\n",
    "   writer.writerows(predicts)"
   ]
  },
  {
   "cell_type": "code",
   "execution_count": null,
   "metadata": {
    "collapsed": true
   },
   "outputs": [],
   "source": [
    "betas = []\n",
    "te_params = []\n",
    "iso_params = []\n",
    "S0s = []\n",
    "for i in fits:\n",
    "    betas.append(i.beta)\n",
    "    te_params.append(i.te_params)\n",
    "    iso_params.append(i.iso.params)\n",
    "    S0s.append([i.S0])"
   ]
  },
  {
   "cell_type": "code",
   "execution_count": null,
   "metadata": {
    "collapsed": true
   },
   "outputs": [],
   "source": [
    "filename = 'betas'\n",
    "with open(filename + '_' + version + '.csv', 'w') as f:\n",
    "   writer = csv.writer(f, delimiter=',')\n",
    "   writer.writerows(betas)"
   ]
  },
  {
   "cell_type": "code",
   "execution_count": null,
   "metadata": {
    "collapsed": true
   },
   "outputs": [],
   "source": [
    "filename = 'te_params'\n",
    "with open(filename + '_' + version + '.csv', 'w') as f:\n",
    "   writer = csv.writer(f, delimiter=',')\n",
    "   writer.writerows(te_params)"
   ]
  },
  {
   "cell_type": "code",
   "execution_count": null,
   "metadata": {
    "collapsed": true
   },
   "outputs": [],
   "source": [
    "filename = 'iso_params'\n",
    "with open(filename + '_' + version + '.csv', 'w') as f:\n",
    "   writer = csv.writer(f, delimiter=',')\n",
    "   writer.writerows(iso_params)"
   ]
  },
  {
   "cell_type": "code",
   "execution_count": null,
   "metadata": {
    "collapsed": false
   },
   "outputs": [],
   "source": [
    "filename = 'S0s'\n",
    "with open(filename + '_' + version + '.csv', 'w') as f:\n",
    "   writer = csv.writer(f, delimiter=',')\n",
    "   writer.writerows(S0s)"
   ]
  }
 ],
 "metadata": {
  "kernelspec": {
   "display_name": "Python 3",
   "language": "python",
   "name": "python3"
  },
  "language_info": {
   "codemirror_mode": {
    "name": "ipython",
    "version": 3
   },
   "file_extension": ".py",
   "mimetype": "text/x-python",
   "name": "python",
   "nbconvert_exporter": "python",
   "pygments_lexer": "ipython3",
   "version": "3.4.3"
  }
 },
 "nbformat": 4,
 "nbformat_minor": 0
}
