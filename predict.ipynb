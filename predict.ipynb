{
 "cells": [
  {
   "cell_type": "code",
   "execution_count": 1,
   "metadata": {
    "collapsed": false
   },
   "outputs": [],
   "source": [
    "import numpy as np\n",
    "#%matplotlib inline\n",
    "import dipy.reconst.sfm as sfm\n",
    "import dipy.reconst.csdeconv as csd\n",
    "import dipy.reconst.dti as dti\n",
    "import dipy.core.gradients as grad\n",
    "import dipy.reconst.cross_validation as xval\n",
    "import dipy.data as dpd\n",
    "import utils\n",
    "import model as mm \n",
    "from model import Model, BiExponentialIsotropicModel, my_responses\n",
    "from parallelization import parallelization\n",
    "import csv\n",
    "import sklearn.linear_model as lm"
   ]
  },
  {
   "cell_type": "code",
   "execution_count": 2,
   "metadata": {
    "collapsed": true
   },
   "outputs": [],
   "source": [
    "version = 'final3'"
   ]
  },
  {
   "cell_type": "code",
   "execution_count": 3,
   "metadata": {
    "collapsed": false
   },
   "outputs": [],
   "source": [
    "# Load Data\n",
    "data_dict = utils.read_data()\n",
    "data = data_dict['seen']['signal']\n",
    "dataX = data_dict['seen']['signalX']\n",
    "bvals_seen = data_dict['seen']['bvals']\n",
    "bvecs_seen = data_dict['seen']['bvecs']\n",
    "delta_seen = data_dict['seen']['delta']\n",
    "Delta_seen = data_dict['seen']['Delta']\n",
    "te_seen = data_dict['seen']['TE']\n",
    "g_seen = data_dict['seen']['g']\n",
    "bvals_unseen = data_dict['unseen']['bvals']\n",
    "bvecs_unseen = data_dict['unseen']['bvecs']\n",
    "delta_unseen = data_dict['unseen']['delta']\n",
    "Delta_unseen = data_dict['unseen']['Delta']\n",
    "te_unseen = data_dict['unseen']['TE']\n",
    "g_unseen = data_dict['unseen']['g']\n",
    "gtab_seen= grad.gradient_table(bvals_seen, bvecs_seen, big_delta=Delta_seen, small_delta=delta_seen)\n",
    "gtab_unseen= grad.gradient_table(bvals_unseen, bvecs_unseen, big_delta=Delta_unseen, small_delta=delta_unseen)"
   ]
  },
  {
   "cell_type": "code",
   "execution_count": 4,
   "metadata": {
    "collapsed": false
   },
   "outputs": [],
   "source": [
    "data_seen_list = []\n",
    "data_unseen_list = []\n",
    "te_seen_list = []\n",
    "te_unseen_list = []\n",
    "gtab_seen_list = []\n",
    "gtab_unseen_list = []\n",
    "g_seen_list = []\n",
    "g_unseen_list = []\n",
    "\n",
    "for d in [data, dataX]:\n",
    "    for m in range(data.shape[-1]): # for every voxel\n",
    "        data_seen_list.append(d[:,m])\n",
    "        te_seen_list.append(te_seen)\n",
    "        te_unseen_list.append(te_unseen)\n",
    "        g_seen_list.append(g_seen)\n",
    "        g_unseen_list.append(g_unseen)\n",
    "        gtab_seen_list.append(gtab_seen)\n",
    "        gtab_unseen_list.append(gtab_unseen)"
   ]
  },
  {
   "cell_type": "code",
   "execution_count": 5,
   "metadata": {
    "collapsed": false
   },
   "outputs": [],
   "source": [
    "alphas = [5e-7]\n",
    "l1_ratios = [0.4]"
   ]
  },
  {
   "cell_type": "code",
   "execution_count": 7,
   "metadata": {
    "collapsed": false
   },
   "outputs": [],
   "source": [
    "n_variations = len(alphas) * len(l1_ratios)\n",
    "n_voxels = len(data_seen_list)\n",
    "n = n_voxels * n_variations"
   ]
  },
  {
   "cell_type": "code",
   "execution_count": 8,
   "metadata": {
    "collapsed": false
   },
   "outputs": [],
   "source": [
    "alpha_grid, l1_ratio_grid = np.meshgrid(alphas, l1_ratios)\n",
    "alpha_grid = np.reshape(alpha_grid, (n_variations, -1)).squeeze()\n",
    "l1_ratio_grid = np.reshape(l1_ratio_grid, (n_variations, -1)).squeeze()"
   ]
  },
  {
   "cell_type": "code",
   "execution_count": 9,
   "metadata": {
    "collapsed": true
   },
   "outputs": [],
   "source": [
    "alpha = np.repeat(alpha_grid, n_voxels).tolist()\n",
    "l1_ratio = np.repeat(l1_ratio_grid, n_voxels).tolist()"
   ]
  },
  {
   "cell_type": "code",
   "execution_count": 10,
   "metadata": {
    "collapsed": false
   },
   "outputs": [],
   "source": [
    "solvers = []\n",
    "for a, l in zip(alpha, l1_ratio):\n",
    "    solvers.append(lm.ElasticNet(l1_ratio=l, alpha=a, positive=True, warm_start=True, max_iter=25000, fit_intercept=True, normalize=True))"
   ]
  },
  {
   "cell_type": "code",
   "execution_count": 11,
   "metadata": {
    "collapsed": false
   },
   "outputs": [],
   "source": [
    "p = parallelization()"
   ]
  },
  {
   "cell_type": "code",
   "execution_count": 13,
   "metadata": {
    "collapsed": false
   },
   "outputs": [
    {
     "name": "stdout",
     "output_type": "stream",
     "text": [
      "Parallelization starts on 64 CPUs.\n",
      "  8%      0.02min remaining\n",
      " 16%      0.02min remaining\n",
      " 25%      0.02min remaining\n",
      " 33%      0.02min remaining\n",
      " 41%      0.05min remaining\n",
      " 50%      0.05min remaining\n",
      " 58%      0.05min remaining\n",
      " 75%      0.05min remaining\n",
      " 83%      0.05min remaining\n",
      " 91%      0.05min remaining\n",
      " 66%      0.05min remaining\n",
      "100%      0.00min remaining\n",
      "\n",
      "Total Time needed: 0.03min\n"
     ]
    }
   ],
   "source": [
    "models = p.start(Model, n, gtab_seen_list*n_variations, isotropic=[BiExponentialIsotropicModel], solver=solvers)"
   ]
  },
  {
   "cell_type": "code",
   "execution_count": 12,
   "metadata": {
    "collapsed": false
   },
   "outputs": [
    {
     "name": "stdout",
     "output_type": "stream",
     "text": [
      "Parallelization starts on 64 CPUs.\n",
      "  3%      0.01min remaining\n",
      "  6%      0.01min remaining\n",
      " 12%      0.01min remaining\n",
      "  9%      0.01min remaining\n",
      " 15%      0.01min remaining\n",
      " 18%      0.01min remaining\n",
      " 21%      0.01min remaining\n",
      " 24%      0.01min remaining\n",
      " 27%      0.02min remaining\n",
      " 30%      0.02min remaining\n",
      " 33%      0.02min remaining\n",
      " 36%      0.02min remaining\n",
      " 42%      0.02min remaining\n",
      " 39%      0.02min remaining\n",
      " 45%      0.03min remaining\n",
      " 48%      0.03min remaining\n",
      " 51%      0.03min remaining\n",
      " 54%      0.03min remaining\n",
      " 57%      0.03min remaining\n",
      " 60%      0.03min remaining\n",
      " 63%      0.03min remaining\n",
      " 66%      0.04min remaining\n",
      " 69%      0.04min remaining\n",
      " 72%      0.04min remaining\n",
      " 78%      0.04min remaining\n",
      " 75%      0.04min remaining\n",
      " 81%      0.05min remaining\n",
      " 87%      0.05min remaining\n",
      " 84%      0.05min remaining\n",
      " 90%      0.05min remaining\n",
      " 93%      0.06min remaining\n",
      " 96%      0.06min remaining\n"
     ]
    },
    {
     "ename": "KeyboardInterrupt",
     "evalue": "",
     "output_type": "error",
     "traceback": [
      "\u001b[1;31m---------------------------------------------------------------------------\u001b[0m",
      "\u001b[1;31mKeyboardInterrupt\u001b[0m                         Traceback (most recent call last)",
      "\u001b[1;32m<ipython-input-12-30114c333694>\u001b[0m in \u001b[0;36m<module>\u001b[1;34m()\u001b[0m\n\u001b[1;32m----> 1\u001b[1;33m \u001b[0mfits\u001b[0m \u001b[1;33m=\u001b[0m \u001b[0mp\u001b[0m\u001b[1;33m.\u001b[0m\u001b[0mstart\u001b[0m\u001b[1;33m(\u001b[0m\u001b[1;33m[\u001b[0m\u001b[0mi\u001b[0m\u001b[1;33m.\u001b[0m\u001b[0mfit\u001b[0m \u001b[1;32mfor\u001b[0m \u001b[0mi\u001b[0m \u001b[1;32min\u001b[0m \u001b[0mmodels\u001b[0m\u001b[1;33m]\u001b[0m\u001b[1;33m,\u001b[0m \u001b[0mn\u001b[0m\u001b[1;33m,\u001b[0m \u001b[0mdata_seen\u001b[0m\u001b[1;33m*\u001b[0m\u001b[0mn_variations\u001b[0m\u001b[1;33m,\u001b[0m \u001b[0mte_seen\u001b[0m\u001b[1;33m*\u001b[0m\u001b[0mn_variations\u001b[0m\u001b[1;33m,\u001b[0m  \u001b[0mg_seen\u001b[0m\u001b[1;33m*\u001b[0m\u001b[0mn_variations\u001b[0m\u001b[1;33m)\u001b[0m\u001b[1;33m\u001b[0m\u001b[0m\n\u001b[0m",
      "\u001b[1;32m/localhome/cpoetter/ISBI2015/parallelization.pyc\u001b[0m in \u001b[0;36mstart\u001b[1;34m(self, function, n, *args, **kwargs)\u001b[0m\n\u001b[0;32m    132\u001b[0m \u001b[1;33m\u001b[0m\u001b[0m\n\u001b[0;32m    133\u001b[0m         \u001b[1;32mfor\u001b[0m \u001b[0mi\u001b[0m \u001b[1;32min\u001b[0m \u001b[0mrange\u001b[0m\u001b[1;33m(\u001b[0m\u001b[0mn\u001b[0m\u001b[1;33m)\u001b[0m\u001b[1;33m:\u001b[0m\u001b[1;33m\u001b[0m\u001b[0m\n\u001b[1;32m--> 134\u001b[1;33m             \u001b[0mresults\u001b[0m \u001b[1;33m=\u001b[0m \u001b[0mq\u001b[0m\u001b[1;33m.\u001b[0m\u001b[0mget\u001b[0m\u001b[1;33m(\u001b[0m\u001b[1;33m)\u001b[0m\u001b[1;33m\u001b[0m\u001b[0m\n\u001b[0m\u001b[0;32m    135\u001b[0m             \u001b[0mvox\u001b[0m \u001b[1;33m=\u001b[0m \u001b[0mresults\u001b[0m\u001b[1;33m[\u001b[0m\u001b[1;36m0\u001b[0m\u001b[1;33m]\u001b[0m\u001b[1;33m\u001b[0m\u001b[0m\n\u001b[0;32m    136\u001b[0m             \u001b[0mreturn_values\u001b[0m\u001b[1;33m[\u001b[0m\u001b[0mvox\u001b[0m\u001b[1;33m]\u001b[0m \u001b[1;33m=\u001b[0m \u001b[0mresults\u001b[0m\u001b[1;33m[\u001b[0m\u001b[1;36m1\u001b[0m\u001b[1;33m]\u001b[0m\u001b[1;33m\u001b[0m\u001b[0m\n",
      "\u001b[1;32m/usr/lib/python2.7/multiprocessing/queues.pyc\u001b[0m in \u001b[0;36mget\u001b[1;34m(self, block, timeout)\u001b[0m\n\u001b[0;32m    115\u001b[0m             \u001b[0mself\u001b[0m\u001b[1;33m.\u001b[0m\u001b[0m_rlock\u001b[0m\u001b[1;33m.\u001b[0m\u001b[0macquire\u001b[0m\u001b[1;33m(\u001b[0m\u001b[1;33m)\u001b[0m\u001b[1;33m\u001b[0m\u001b[0m\n\u001b[0;32m    116\u001b[0m             \u001b[1;32mtry\u001b[0m\u001b[1;33m:\u001b[0m\u001b[1;33m\u001b[0m\u001b[0m\n\u001b[1;32m--> 117\u001b[1;33m                 \u001b[0mres\u001b[0m \u001b[1;33m=\u001b[0m \u001b[0mself\u001b[0m\u001b[1;33m.\u001b[0m\u001b[0m_recv\u001b[0m\u001b[1;33m(\u001b[0m\u001b[1;33m)\u001b[0m\u001b[1;33m\u001b[0m\u001b[0m\n\u001b[0m\u001b[0;32m    118\u001b[0m                 \u001b[0mself\u001b[0m\u001b[1;33m.\u001b[0m\u001b[0m_sem\u001b[0m\u001b[1;33m.\u001b[0m\u001b[0mrelease\u001b[0m\u001b[1;33m(\u001b[0m\u001b[1;33m)\u001b[0m\u001b[1;33m\u001b[0m\u001b[0m\n\u001b[0;32m    119\u001b[0m                 \u001b[1;32mreturn\u001b[0m \u001b[0mres\u001b[0m\u001b[1;33m\u001b[0m\u001b[0m\n",
      "\u001b[1;31mKeyboardInterrupt\u001b[0m: "
     ]
    }
   ],
   "source": [
    "fits = p.start([i.fit for i in models], n, data_seen_list*n_variations, te_seen_list*n_variations,  g_seen_list*n_variations)"
   ]
  },
  {
   "cell_type": "code",
   "execution_count": null,
   "metadata": {
    "collapsed": false
   },
   "outputs": [],
   "source": [
    "predicts = p.start([i.predict for i in fits], n, gtab_unseen_list*n_variations, te_unseen_list*n_variations)"
   ]
  },
  {
   "cell_type": "code",
   "execution_count": null,
   "metadata": {
    "collapsed": true
   },
   "outputs": [],
   "source": [
    "all_predictions = np.asarray(predicts)"
   ]
  },
  {
   "cell_type": "code",
   "execution_count": null,
   "metadata": {
    "collapsed": true
   },
   "outputs": [],
   "source": [
    "np.savetxt('unseenSignal.txt', all_predictions[:6].T, fmt='%.4f', header='%—voxel1——-voxel2——-voxel3-—-voxel4——-voxel5——-voxel6')"
   ]
  },
  {
   "cell_type": "code",
   "execution_count": null,
   "metadata": {
    "collapsed": true
   },
   "outputs": [],
   "source": [
    "np.savetxt('unseenSignalX.txt', all_predictions[6:].T, fmt='%.4f', header='%—voxel1——-voxel2——-voxel3-—-voxel4——-voxel5——-voxel6')"
   ]
  },
  {
   "cell_type": "code",
   "execution_count": 32,
   "metadata": {
    "collapsed": false
   },
   "outputs": [
    {
     "ename": "NameError",
     "evalue": "name 'predicts' is not defined",
     "output_type": "error",
     "traceback": [
      "\u001b[1;31m---------------------------------------------------------------------------\u001b[0m",
      "\u001b[1;31mNameError\u001b[0m                                 Traceback (most recent call last)",
      "\u001b[1;32m<ipython-input-32-e9d306af261c>\u001b[0m in \u001b[0;36m<module>\u001b[1;34m()\u001b[0m\n\u001b[0;32m      2\u001b[0m \u001b[1;32mwith\u001b[0m \u001b[0mopen\u001b[0m\u001b[1;33m(\u001b[0m\u001b[0mfilename\u001b[0m \u001b[1;33m+\u001b[0m \u001b[1;34m'_'\u001b[0m \u001b[1;33m+\u001b[0m \u001b[0mversion\u001b[0m \u001b[1;33m+\u001b[0m \u001b[1;34m'.csv'\u001b[0m\u001b[1;33m,\u001b[0m \u001b[1;34m'w'\u001b[0m\u001b[1;33m)\u001b[0m \u001b[1;32mas\u001b[0m \u001b[0mf\u001b[0m\u001b[1;33m:\u001b[0m\u001b[1;33m\u001b[0m\u001b[0m\n\u001b[0;32m      3\u001b[0m    \u001b[0mwriter\u001b[0m \u001b[1;33m=\u001b[0m \u001b[0mcsv\u001b[0m\u001b[1;33m.\u001b[0m\u001b[0mwriter\u001b[0m\u001b[1;33m(\u001b[0m\u001b[0mf\u001b[0m\u001b[1;33m,\u001b[0m \u001b[0mdelimiter\u001b[0m\u001b[1;33m=\u001b[0m\u001b[1;34m','\u001b[0m\u001b[1;33m)\u001b[0m\u001b[1;33m\u001b[0m\u001b[0m\n\u001b[1;32m----> 4\u001b[1;33m    \u001b[0mwriter\u001b[0m\u001b[1;33m.\u001b[0m\u001b[0mwriterows\u001b[0m\u001b[1;33m(\u001b[0m\u001b[0mpredicts\u001b[0m\u001b[1;33m)\u001b[0m\u001b[1;33m\u001b[0m\u001b[0m\n\u001b[0m",
      "\u001b[1;31mNameError\u001b[0m: name 'predicts' is not defined"
     ]
    }
   ],
   "source": [
    "filename = 'predictions'\n",
    "with open(filename + '_' + version + '.csv', 'w') as f:\n",
    "   writer = csv.writer(f, delimiter=',')\n",
    "   writer.writerows(predicts)"
   ]
  },
  {
   "cell_type": "code",
   "execution_count": null,
   "metadata": {
    "collapsed": true
   },
   "outputs": [],
   "source": [
    "betas = []\n",
    "te_params = []\n",
    "iso_params = []\n",
    "S0s = []\n",
    "for i in fits:\n",
    "    betas.append(i.beta)\n",
    "    te_params.append(i.te_params)\n",
    "    iso_params.append(i.iso.params)\n",
    "    S0s.append([i.S0])"
   ]
  },
  {
   "cell_type": "code",
   "execution_count": null,
   "metadata": {
    "collapsed": true
   },
   "outputs": [],
   "source": [
    "filename = 'betas'\n",
    "with open(filename + '_' + version + '.csv', 'w') as f:\n",
    "   writer = csv.writer(f, delimiter=',')\n",
    "   writer.writerows(betas)"
   ]
  },
  {
   "cell_type": "code",
   "execution_count": null,
   "metadata": {
    "collapsed": true
   },
   "outputs": [],
   "source": [
    "filename = 'te_params'\n",
    "with open(filename + '_' + version + '.csv', 'w') as f:\n",
    "   writer = csv.writer(f, delimiter=',')\n",
    "   writer.writerows(te_params)"
   ]
  },
  {
   "cell_type": "code",
   "execution_count": null,
   "metadata": {
    "collapsed": true
   },
   "outputs": [],
   "source": [
    "filename = 'iso_params'\n",
    "with open(filename + '_' + version + '.csv', 'w') as f:\n",
    "   writer = csv.writer(f, delimiter=',')\n",
    "   writer.writerows(iso_params)"
   ]
  },
  {
   "cell_type": "code",
   "execution_count": null,
   "metadata": {
    "collapsed": false
   },
   "outputs": [],
   "source": [
    "filename = 'S0s'\n",
    "with open(filename + '_' + version + '.csv', 'w') as f:\n",
    "   writer = csv.writer(f, delimiter=',')\n",
    "   writer.writerows(S0s)"
   ]
  }
 ],
 "metadata": {
  "kernelspec": {
   "display_name": "Python 2",
   "language": "python",
   "name": "python2"
  },
  "language_info": {
   "codemirror_mode": {
    "name": "ipython",
    "version": 2
   },
   "file_extension": ".py",
   "mimetype": "text/x-python",
   "name": "python",
   "nbconvert_exporter": "python",
   "pygments_lexer": "ipython2",
   "version": "2.7.3"
  }
 },
 "nbformat": 4,
 "nbformat_minor": 0
}
