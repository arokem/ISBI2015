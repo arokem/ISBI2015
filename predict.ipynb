{
 "cells": [
  {
   "cell_type": "code",
   "execution_count": 4,
   "metadata": {
    "collapsed": true
   },
   "outputs": [],
   "source": [
    "import numpy as np\n",
    "import matplotlib.pyplot as plt\n",
    "%matplotlib inline\n",
    "import seaborn as sns\n",
    "sns.set()"
   ]
  },
  {
   "cell_type": "code",
   "execution_count": 5,
   "metadata": {
    "collapsed": false
   },
   "outputs": [],
   "source": [
    "import dipy.reconst.sfm as sfm\n",
    "import dipy.reconst.csdeconv as csd\n",
    "import dipy.reconst.dti as dti\n",
    "import dipy.core.gradients as grad\n",
    "import dipy.data as dpd"
   ]
  },
  {
   "cell_type": "code",
   "execution_count": 6,
   "metadata": {
    "collapsed": false
   },
   "outputs": [],
   "source": [
    "import utils\n",
    "from model import Model, BiExponentialIsotropicModel, my_responses"
   ]
  },
  {
   "cell_type": "code",
   "execution_count": 7,
   "metadata": {
    "collapsed": false
   },
   "outputs": [],
   "source": [
    "data = utils.read_data()"
   ]
  },
  {
   "cell_type": "code",
   "execution_count": 8,
   "metadata": {
    "collapsed": false
   },
   "outputs": [],
   "source": [
    "train_bvals = data['seen']['bvals']\n",
    "train_bvecs = data['seen']['bvecs']\n",
    "train_delta = data['seen']['delta']\n",
    "train_Delta = data['seen']['Delta']\n",
    "train_te = data['seen']['TE']\n",
    "train_g = data['seen']['g']"
   ]
  },
  {
   "cell_type": "code",
   "execution_count": 9,
   "metadata": {
    "collapsed": true
   },
   "outputs": [],
   "source": [
    "test_bvals = data['unseen']['bvals']\n",
    "test_bvecs = data['unseen']['bvecs']\n",
    "test_delta = data['unseen']['delta']\n",
    "test_Delta = data['unseen']['Delta']\n",
    "test_te = data['unseen']['TE']\n",
    "test_g = data['unseen']['g']"
   ]
  },
  {
   "cell_type": "code",
   "execution_count": 10,
   "metadata": {
    "collapsed": false
   },
   "outputs": [],
   "source": [
    "train_gtab = grad.gradient_table(train_bvals, train_bvecs, big_delta=train_Delta, small_delta=train_delta)\n",
    "test_gtab = grad.gradient_table(test_bvals, test_bvecs, big_delta=test_Delta, small_delta=test_delta)"
   ]
  },
  {
   "cell_type": "code",
   "execution_count": 14,
   "metadata": {
    "collapsed": false
   },
   "outputs": [],
   "source": [
    "import sklearn.linear_model as lm\n",
    "model1 = Model(train_gtab, isotropic=BiExponentialIsotropicModel,\n",
    "               solver=lm.ElasticNet(l1_ratio=0.1, alpha=1e-5, positive=True, warm_start=True, max_iter=25000, \n",
    "                                                                               fit_intercept=True, normalize=True))\n",
    "\n",
    "model2 = Model(test_gtab, isotropic=BiExponentialIsotropicModel,\n",
    "               solver=lm.ElasticNet(l1_ratio=0.1, alpha=1e-5, positive=True, warm_start=True, max_iter=25000, \n",
    "                                                                fit_intercept=True, normalize=True))"
   ]
  },
  {
   "cell_type": "code",
   "execution_count": 21,
   "metadata": {
    "collapsed": false
   },
   "outputs": [
    {
     "data": {
      "text/plain": [
       "2.1194082528119882"
      ]
     },
     "execution_count": 21,
     "metadata": {},
     "output_type": "execute_result"
    }
   ],
   "source": [
    "all_predictions = []\n",
    "for vox_idx in range(6):\n",
    "    train_data = data['seen']['signal'][:, vox_idx]\n",
    "    fit1 = model1.fit(train_data, train_te, train_g)\n",
    "    predict1 = fit1.predict(test_gtab, test_te)\n",
    "    all_predictions.append(predict1)\n",
    "    predict2 = fit1.predict(train_gtab, train_te)\n",
    "    plt.figure()\n",
    "    plt.plot(train_gtab.bvals, train_data, '.')\n",
    "    plt.plot(train_gtab.bvals, predict2, '.')\n",
    "    plt.figure()\n",
    "    plt.plot(test_gtab.bvals, predict1, '.')\n",
    "    print(utils.LSE(predict2, train_data))"
   ]
  },
  {
   "cell_type": "code",
   "execution_count": 35,
   "metadata": {
    "collapsed": false
   },
   "outputs": [],
   "source": [
    "np.savetxt('unseenSignal.txt', all_predictions, fmt='%.4f', header='%—voxel1——-voxel2——-voxel3-—-voxel4——-voxel5——-voxel6')"
   ]
  },
  {
   "cell_type": "code",
   "execution_count": null,
   "metadata": {
    "collapsed": true
   },
   "outputs": [],
   "source": []
  }
 ],
 "metadata": {
  "kernelspec": {
   "display_name": "Python 2",
   "language": "python",
   "name": "python2"
  },
  "language_info": {
   "codemirror_mode": {
    "name": "ipython",
    "version": 2
   },
   "file_extension": ".py",
   "mimetype": "text/x-python",
   "name": "python",
   "nbconvert_exporter": "python",
   "pygments_lexer": "ipython2",
   "version": "2.7.9"
  }
 },
 "nbformat": 4,
 "nbformat_minor": 0
}
