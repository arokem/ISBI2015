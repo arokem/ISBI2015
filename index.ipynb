{
 "cells": [
  {
   "cell_type": "markdown",
   "metadata": {},
   "source": [
    "## Restriction Spectrum Sparse Fascicle Model\n",
    "\n",
    "**Ariel Rokem, Christian Pötter & Robert Dougherty**\n",
    "\n",
    "This model was our submission to the [ISBI 2015 White Matter Challenge](http://biomedicalimaging.org/2015/white-matter-modeling-challenge/)\n",
    "\n",
    "For an explanation about the model, read the [abstract](http://arokem.github.io/ISBI2015/) and view the [slide presentation](http://arokem.github.io/ISBI2015/presentation/index.html).\n",
    "\n",
    "\n",
    "To run the model with data:\n",
    "\n",
    "- [This notebook](RS-SFM-example.ipynb) demonstrates fitting the model to an individual voxel.\n",
    "\n",
    "- [This notebook](RS-SFM-prediction.ipynb) contains the code that was run to generate the predictions for the challenge."
   ]
  },
  {
   "cell_type": "code",
   "execution_count": null,
   "metadata": {
    "collapsed": true
   },
   "outputs": [],
   "source": []
  }
 ],
 "metadata": {
  "kernelspec": {
   "display_name": "Python 3",
   "language": "python",
   "name": "python3"
  },
  "language_info": {
   "codemirror_mode": {
    "name": "ipython",
    "version": 3
   },
   "file_extension": ".py",
   "mimetype": "text/x-python",
   "name": "python",
   "nbconvert_exporter": "python",
   "pygments_lexer": "ipython3",
   "version": "3.5.1"
  }
 },
 "nbformat": 4,
 "nbformat_minor": 0
}
